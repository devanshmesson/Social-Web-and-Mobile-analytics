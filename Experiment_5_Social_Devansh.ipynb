{
  "nbformat": 4,
  "nbformat_minor": 0,
  "metadata": {
    "colab": {
      "name": "Experiment_5_Social_Devansh.ipynb",
      "provenance": [],
      "collapsed_sections": [],
      "authorship_tag": "ABX9TyMmSbB4/zVh00RNLQuKb3Qq",
      "include_colab_link": true
    },
    "kernelspec": {
      "display_name": "Python 3",
      "name": "python3"
    },
    "language_info": {
      "name": "python"
    }
  },
  "cells": [
    {
      "cell_type": "markdown",
      "metadata": {
        "id": "view-in-github",
        "colab_type": "text"
      },
      "source": [
        "<a href=\"https://colab.research.google.com/github/devanshmesson/Social-Web-and-Mobile-analytics/blob/main/Experiment_5_Social_Devansh.ipynb\" target=\"_parent\"><img src=\"https://colab.research.google.com/assets/colab-badge.svg\" alt=\"Open In Colab\"/></a>"
      ]
    },
    {
      "cell_type": "code",
      "metadata": {
        "id": "FS_64s2pwndW"
      },
      "source": [
        "import numpy as np\n",
        "import pandas as pd"
      ],
      "execution_count": 749,
      "outputs": []
    },
    {
      "cell_type": "code",
      "metadata": {
        "colab": {
          "base_uri": "https://localhost:8080/",
          "height": 404
        },
        "id": "J6IRerz_yJnn",
        "outputId": "94ca68bd-b9cb-4c5b-8eb4-21a21be4d21e"
      },
      "source": [
        "data = pd.read_csv('Restaurant_Reviews.tsv',sep=\"\\t\")\n",
        "data"
      ],
      "execution_count": 750,
      "outputs": [
        {
          "output_type": "execute_result",
          "data": {
            "text/html": [
              "<div>\n",
              "<style scoped>\n",
              "    .dataframe tbody tr th:only-of-type {\n",
              "        vertical-align: middle;\n",
              "    }\n",
              "\n",
              "    .dataframe tbody tr th {\n",
              "        vertical-align: top;\n",
              "    }\n",
              "\n",
              "    .dataframe thead th {\n",
              "        text-align: right;\n",
              "    }\n",
              "</style>\n",
              "<table border=\"1\" class=\"dataframe\">\n",
              "  <thead>\n",
              "    <tr style=\"text-align: right;\">\n",
              "      <th></th>\n",
              "      <th>Review</th>\n",
              "      <th>Liked</th>\n",
              "    </tr>\n",
              "  </thead>\n",
              "  <tbody>\n",
              "    <tr>\n",
              "      <th>0</th>\n",
              "      <td>Wow... Loved this place.</td>\n",
              "      <td>1</td>\n",
              "    </tr>\n",
              "    <tr>\n",
              "      <th>1</th>\n",
              "      <td>Crust is not good.</td>\n",
              "      <td>0</td>\n",
              "    </tr>\n",
              "    <tr>\n",
              "      <th>2</th>\n",
              "      <td>Not tasty and the texture was just nasty.</td>\n",
              "      <td>0</td>\n",
              "    </tr>\n",
              "    <tr>\n",
              "      <th>3</th>\n",
              "      <td>Stopped by during the late May bank holiday of...</td>\n",
              "      <td>1</td>\n",
              "    </tr>\n",
              "    <tr>\n",
              "      <th>4</th>\n",
              "      <td>The selection on the menu was great and so wer...</td>\n",
              "      <td>1</td>\n",
              "    </tr>\n",
              "    <tr>\n",
              "      <th>...</th>\n",
              "      <td>...</td>\n",
              "      <td>...</td>\n",
              "    </tr>\n",
              "    <tr>\n",
              "      <th>995</th>\n",
              "      <td>I think food should have flavor and texture an...</td>\n",
              "      <td>0</td>\n",
              "    </tr>\n",
              "    <tr>\n",
              "      <th>996</th>\n",
              "      <td>Appetite instantly gone.</td>\n",
              "      <td>0</td>\n",
              "    </tr>\n",
              "    <tr>\n",
              "      <th>997</th>\n",
              "      <td>Overall I was not impressed and would not go b...</td>\n",
              "      <td>0</td>\n",
              "    </tr>\n",
              "    <tr>\n",
              "      <th>998</th>\n",
              "      <td>The whole experience was underwhelming, and I ...</td>\n",
              "      <td>0</td>\n",
              "    </tr>\n",
              "    <tr>\n",
              "      <th>999</th>\n",
              "      <td>Then, as if I hadn't wasted enough of my life ...</td>\n",
              "      <td>0</td>\n",
              "    </tr>\n",
              "  </tbody>\n",
              "</table>\n",
              "<p>1000 rows × 2 columns</p>\n",
              "</div>"
            ],
            "text/plain": [
              "                                                Review  Liked\n",
              "0                             Wow... Loved this place.      1\n",
              "1                                   Crust is not good.      0\n",
              "2            Not tasty and the texture was just nasty.      0\n",
              "3    Stopped by during the late May bank holiday of...      1\n",
              "4    The selection on the menu was great and so wer...      1\n",
              "..                                                 ...    ...\n",
              "995  I think food should have flavor and texture an...      0\n",
              "996                           Appetite instantly gone.      0\n",
              "997  Overall I was not impressed and would not go b...      0\n",
              "998  The whole experience was underwhelming, and I ...      0\n",
              "999  Then, as if I hadn't wasted enough of my life ...      0\n",
              "\n",
              "[1000 rows x 2 columns]"
            ]
          },
          "metadata": {
            "tags": []
          },
          "execution_count": 750
        }
      ]
    },
    {
      "cell_type": "markdown",
      "metadata": {
        "id": "qvWV0XtwEg5z"
      },
      "source": [
        "#Data Cleaning\n",
        "1. Lowering the sentences"
      ]
    },
    {
      "cell_type": "code",
      "metadata": {
        "colab": {
          "base_uri": "https://localhost:8080/"
        },
        "id": "vzORi165EqSV",
        "outputId": "0bcaa5a5-9489-4f20-c288-627c30eb3f65"
      },
      "source": [
        "import string\n",
        "import nltk\n",
        "from nltk.corpus import stopwords\n",
        "from nltk.stem import PorterStemmer\n",
        "from nltk.stem import WordNetLemmatizer\n",
        "\n",
        "nltk.download('wordnet')\n",
        "nltk.download('stopwords')\n",
        "nltk.download('averaged_perceptron_tagger')\n",
        "stopwords1=set(stopwords.words('english'))\n",
        "\n",
        "\n",
        "def text_cleaning(text):\n",
        "  #Applying list comprehension\n",
        "  remove_punctuation=[character for character in text if character not in string.punctuation] #Will split the non punctuation characters individually \n",
        "  remove_punctuation=''.join(remove_punctuation) #Joining the splitted non punctuation characters.\n",
        "  cleaned = [word.lower() for word in remove_punctuation.split() if word.lower() not in stopwords1]\n",
        "  tagged = nltk.pos_tag(cleaned)\n",
        "  return tagged"
      ],
      "execution_count": 751,
      "outputs": [
        {
          "output_type": "stream",
          "text": [
            "[nltk_data] Downloading package wordnet to /root/nltk_data...\n",
            "[nltk_data]   Package wordnet is already up-to-date!\n",
            "[nltk_data] Downloading package stopwords to /root/nltk_data...\n",
            "[nltk_data]   Package stopwords is already up-to-date!\n",
            "[nltk_data] Downloading package averaged_perceptron_tagger to\n",
            "[nltk_data]     /root/nltk_data...\n",
            "[nltk_data]   Package averaged_perceptron_tagger is already up-to-\n",
            "[nltk_data]       date!\n"
          ],
          "name": "stdout"
        }
      ]
    },
    {
      "cell_type": "code",
      "metadata": {
        "colab": {
          "base_uri": "https://localhost:8080/"
        },
        "id": "W4sDenZOzUTe",
        "outputId": "f896625c-d0a2-408d-ca2c-a8cc5d168c1c"
      },
      "source": [
        "#data.iloc[:,0] means extracting all rows in the 0th column\n",
        "clean=data.iloc[:,0].apply(text_cleaning) #Returns a list of tuples \n",
        "clean"
      ],
      "execution_count": 752,
      "outputs": [
        {
          "output_type": "execute_result",
          "data": {
            "text/plain": [
              "0                 [(wow, NN), (loved, VBD), (place, NN)]\n",
              "1                              [(crust, NN), (good, NN)]\n",
              "2              [(tasty, JJ), (texture, NN), (nasty, NN)]\n",
              "3      [(stopped, VBN), (late, JJ), (may, MD), (bank,...\n",
              "4      [(selection, NN), (menu, VBZ), (great, JJ), (p...\n",
              "                             ...                        \n",
              "995    [(think, VB), (food, NN), (flavor, NN), (textu...\n",
              "996       [(appetite, RB), (instantly, RB), (gone, VBN)]\n",
              "997    [(overall, JJ), (impressed, VBD), (would, MD),...\n",
              "998    [(whole, JJ), (experience, NN), (underwhelming...\n",
              "999    [(hadnt, NN), (wasted, VBD), (enough, JJ), (li...\n",
              "Name: Review, Length: 1000, dtype: object"
            ]
          },
          "metadata": {
            "tags": []
          },
          "execution_count": 752
        }
      ]
    },
    {
      "cell_type": "code",
      "metadata": {
        "id": "BwxGu8N9lRZi"
      },
      "source": [
        "cnt=-1\n",
        "for cleanlist in clean: #iterating the dataframe\n",
        "  cnt=cnt+1\n",
        "  cleanlist=[pairs for pairs in cleanlist] #Removing nouns from each rof data frame\n",
        "  clean[cnt]=cleanlist"
      ],
      "execution_count": 753,
      "outputs": []
    },
    {
      "cell_type": "code",
      "metadata": {
        "colab": {
          "base_uri": "https://localhost:8080/"
        },
        "id": "qEk1MlaGmTLT",
        "outputId": "0168d5d9-aeb8-4334-a8de-da80d04b1d3f"
      },
      "source": [
        "clean"
      ],
      "execution_count": 754,
      "outputs": [
        {
          "output_type": "execute_result",
          "data": {
            "text/plain": [
              "0                 [(wow, NN), (loved, VBD), (place, NN)]\n",
              "1                              [(crust, NN), (good, NN)]\n",
              "2              [(tasty, JJ), (texture, NN), (nasty, NN)]\n",
              "3      [(stopped, VBN), (late, JJ), (may, MD), (bank,...\n",
              "4      [(selection, NN), (menu, VBZ), (great, JJ), (p...\n",
              "                             ...                        \n",
              "995    [(think, VB), (food, NN), (flavor, NN), (textu...\n",
              "996       [(appetite, RB), (instantly, RB), (gone, VBN)]\n",
              "997    [(overall, JJ), (impressed, VBD), (would, MD),...\n",
              "998    [(whole, JJ), (experience, NN), (underwhelming...\n",
              "999    [(hadnt, NN), (wasted, VBD), (enough, JJ), (li...\n",
              "Name: Review, Length: 1000, dtype: object"
            ]
          },
          "metadata": {
            "tags": []
          },
          "execution_count": 754
        }
      ]
    },
    {
      "cell_type": "code",
      "metadata": {
        "colab": {
          "base_uri": "https://localhost:8080/"
        },
        "id": "oIFFzhNRD8VX",
        "outputId": "3532c66f-cbb8-4882-95aa-ae068179192c"
      },
      "source": [
        "nltk.download('tagsets')\n",
        "nltk.help.upenn_tagset()"
      ],
      "execution_count": 755,
      "outputs": [
        {
          "output_type": "stream",
          "text": [
            "[nltk_data] Downloading package tagsets to /root/nltk_data...\n",
            "[nltk_data]   Package tagsets is already up-to-date!\n",
            "$: dollar\n",
            "    $ -$ --$ A$ C$ HK$ M$ NZ$ S$ U.S.$ US$\n",
            "'': closing quotation mark\n",
            "    ' ''\n",
            "(: opening parenthesis\n",
            "    ( [ {\n",
            "): closing parenthesis\n",
            "    ) ] }\n",
            ",: comma\n",
            "    ,\n",
            "--: dash\n",
            "    --\n",
            ".: sentence terminator\n",
            "    . ! ?\n",
            ":: colon or ellipsis\n",
            "    : ; ...\n",
            "CC: conjunction, coordinating\n",
            "    & 'n and both but either et for less minus neither nor or plus so\n",
            "    therefore times v. versus vs. whether yet\n",
            "CD: numeral, cardinal\n",
            "    mid-1890 nine-thirty forty-two one-tenth ten million 0.5 one forty-\n",
            "    seven 1987 twenty '79 zero two 78-degrees eighty-four IX '60s .025\n",
            "    fifteen 271,124 dozen quintillion DM2,000 ...\n",
            "DT: determiner\n",
            "    all an another any both del each either every half la many much nary\n",
            "    neither no some such that the them these this those\n",
            "EX: existential there\n",
            "    there\n",
            "FW: foreign word\n",
            "    gemeinschaft hund ich jeux habeas Haementeria Herr K'ang-si vous\n",
            "    lutihaw alai je jour objets salutaris fille quibusdam pas trop Monte\n",
            "    terram fiche oui corporis ...\n",
            "IN: preposition or conjunction, subordinating\n",
            "    astride among uppon whether out inside pro despite on by throughout\n",
            "    below within for towards near behind atop around if like until below\n",
            "    next into if beside ...\n",
            "JJ: adjective or numeral, ordinal\n",
            "    third ill-mannered pre-war regrettable oiled calamitous first separable\n",
            "    ectoplasmic battery-powered participatory fourth still-to-be-named\n",
            "    multilingual multi-disciplinary ...\n",
            "JJR: adjective, comparative\n",
            "    bleaker braver breezier briefer brighter brisker broader bumper busier\n",
            "    calmer cheaper choosier cleaner clearer closer colder commoner costlier\n",
            "    cozier creamier crunchier cuter ...\n",
            "JJS: adjective, superlative\n",
            "    calmest cheapest choicest classiest cleanest clearest closest commonest\n",
            "    corniest costliest crassest creepiest crudest cutest darkest deadliest\n",
            "    dearest deepest densest dinkiest ...\n",
            "LS: list item marker\n",
            "    A A. B B. C C. D E F First G H I J K One SP-44001 SP-44002 SP-44005\n",
            "    SP-44007 Second Third Three Two * a b c d first five four one six three\n",
            "    two\n",
            "MD: modal auxiliary\n",
            "    can cannot could couldn't dare may might must need ought shall should\n",
            "    shouldn't will would\n",
            "NN: noun, common, singular or mass\n",
            "    common-carrier cabbage knuckle-duster Casino afghan shed thermostat\n",
            "    investment slide humour falloff slick wind hyena override subhumanity\n",
            "    machinist ...\n",
            "NNP: noun, proper, singular\n",
            "    Motown Venneboerger Czestochwa Ranzer Conchita Trumplane Christos\n",
            "    Oceanside Escobar Kreisler Sawyer Cougar Yvette Ervin ODI Darryl CTCA\n",
            "    Shannon A.K.C. Meltex Liverpool ...\n",
            "NNPS: noun, proper, plural\n",
            "    Americans Americas Amharas Amityvilles Amusements Anarcho-Syndicalists\n",
            "    Andalusians Andes Andruses Angels Animals Anthony Antilles Antiques\n",
            "    Apache Apaches Apocrypha ...\n",
            "NNS: noun, common, plural\n",
            "    undergraduates scotches bric-a-brac products bodyguards facets coasts\n",
            "    divestitures storehouses designs clubs fragrances averages\n",
            "    subjectivists apprehensions muses factory-jobs ...\n",
            "PDT: pre-determiner\n",
            "    all both half many quite such sure this\n",
            "POS: genitive marker\n",
            "    ' 's\n",
            "PRP: pronoun, personal\n",
            "    hers herself him himself hisself it itself me myself one oneself ours\n",
            "    ourselves ownself self she thee theirs them themselves they thou thy us\n",
            "PRP$: pronoun, possessive\n",
            "    her his mine my our ours their thy your\n",
            "RB: adverb\n",
            "    occasionally unabatingly maddeningly adventurously professedly\n",
            "    stirringly prominently technologically magisterially predominately\n",
            "    swiftly fiscally pitilessly ...\n",
            "RBR: adverb, comparative\n",
            "    further gloomier grander graver greater grimmer harder harsher\n",
            "    healthier heavier higher however larger later leaner lengthier less-\n",
            "    perfectly lesser lonelier longer louder lower more ...\n",
            "RBS: adverb, superlative\n",
            "    best biggest bluntest earliest farthest first furthest hardest\n",
            "    heartiest highest largest least less most nearest second tightest worst\n",
            "RP: particle\n",
            "    aboard about across along apart around aside at away back before behind\n",
            "    by crop down ever fast for forth from go high i.e. in into just later\n",
            "    low more off on open out over per pie raising start teeth that through\n",
            "    under unto up up-pp upon whole with you\n",
            "SYM: symbol\n",
            "    % & ' '' ''. ) ). * + ,. < = > @ A[fj] U.S U.S.S.R * ** ***\n",
            "TO: \"to\" as preposition or infinitive marker\n",
            "    to\n",
            "UH: interjection\n",
            "    Goodbye Goody Gosh Wow Jeepers Jee-sus Hubba Hey Kee-reist Oops amen\n",
            "    huh howdy uh dammit whammo shucks heck anyways whodunnit honey golly\n",
            "    man baby diddle hush sonuvabitch ...\n",
            "VB: verb, base form\n",
            "    ask assemble assess assign assume atone attention avoid bake balkanize\n",
            "    bank begin behold believe bend benefit bevel beware bless boil bomb\n",
            "    boost brace break bring broil brush build ...\n",
            "VBD: verb, past tense\n",
            "    dipped pleaded swiped regummed soaked tidied convened halted registered\n",
            "    cushioned exacted snubbed strode aimed adopted belied figgered\n",
            "    speculated wore appreciated contemplated ...\n",
            "VBG: verb, present participle or gerund\n",
            "    telegraphing stirring focusing angering judging stalling lactating\n",
            "    hankerin' alleging veering capping approaching traveling besieging\n",
            "    encrypting interrupting erasing wincing ...\n",
            "VBN: verb, past participle\n",
            "    multihulled dilapidated aerosolized chaired languished panelized used\n",
            "    experimented flourished imitated reunifed factored condensed sheared\n",
            "    unsettled primed dubbed desired ...\n",
            "VBP: verb, present tense, not 3rd person singular\n",
            "    predominate wrap resort sue twist spill cure lengthen brush terminate\n",
            "    appear tend stray glisten obtain comprise detest tease attract\n",
            "    emphasize mold postpone sever return wag ...\n",
            "VBZ: verb, present tense, 3rd person singular\n",
            "    bases reconstructs marks mixes displeases seals carps weaves snatches\n",
            "    slumps stretches authorizes smolders pictures emerges stockpiles\n",
            "    seduces fizzes uses bolsters slaps speaks pleads ...\n",
            "WDT: WH-determiner\n",
            "    that what whatever which whichever\n",
            "WP: WH-pronoun\n",
            "    that what whatever whatsoever which who whom whosoever\n",
            "WP$: WH-pronoun, possessive\n",
            "    whose\n",
            "WRB: Wh-adverb\n",
            "    how however whence whenever where whereby whereever wherein whereof why\n",
            "``: opening quotation mark\n",
            "    ` ``\n"
          ],
          "name": "stdout"
        }
      ]
    },
    {
      "cell_type": "markdown",
      "metadata": {
        "id": "qq7ruRNOqbOj"
      },
      "source": [
        "##Cleaned Data"
      ]
    },
    {
      "cell_type": "code",
      "metadata": {
        "colab": {
          "base_uri": "https://localhost:8080/"
        },
        "id": "5cUTCuWlp_Td",
        "outputId": "1dca8b91-d9b3-4f36-cd19-fc36b3ba114b"
      },
      "source": [
        "cnt=-1\n",
        "for cleanlist in clean: #iterating the dataframe\n",
        "  cnt=cnt+1\n",
        "  cleanlist=[pairs[0] for pairs in cleanlist] \n",
        "  clean[cnt]=cleanlist\n",
        "clean"
      ],
      "execution_count": 756,
      "outputs": [
        {
          "output_type": "execute_result",
          "data": {
            "text/plain": [
              "0                                    [wow, loved, place]\n",
              "1                                          [crust, good]\n",
              "2                                [tasty, texture, nasty]\n",
              "3      [stopped, late, may, bank, holiday, rick, stev...\n",
              "4                       [selection, menu, great, prices]\n",
              "                             ...                        \n",
              "995              [think, food, flavor, texture, lacking]\n",
              "996                          [appetite, instantly, gone]\n",
              "997                [overall, impressed, would, go, back]\n",
              "998    [whole, experience, underwhelming, think, well...\n",
              "999    [hadnt, wasted, enough, life, poured, salt, wo...\n",
              "Name: Review, Length: 1000, dtype: object"
            ]
          },
          "metadata": {
            "tags": []
          },
          "execution_count": 756
        }
      ]
    },
    {
      "cell_type": "markdown",
      "metadata": {
        "id": "xf2CCu36s3Aa"
      },
      "source": [
        "##Stemming"
      ]
    },
    {
      "cell_type": "code",
      "metadata": {
        "colab": {
          "base_uri": "https://localhost:8080/"
        },
        "id": "T6U-kc2isDxu",
        "outputId": "1e5a04c3-164f-45b2-c31d-ca635c86cd45"
      },
      "source": [
        "from nltk.stem import PorterStemmer\n",
        "stem_it=PorterStemmer()\n",
        "\n",
        "cnt=-1\n",
        "for cleanlist in clean: #iterating the dataframe\n",
        "  cnt=cnt+1\n",
        "  cleanlist=[stem_it.stem(word) for word in cleanlist] \n",
        "  clean[cnt]=cleanlist\n",
        "clean"
      ],
      "execution_count": 757,
      "outputs": [
        {
          "output_type": "execute_result",
          "data": {
            "text/plain": [
              "0                                     [wow, love, place]\n",
              "1                                          [crust, good]\n",
              "2                                 [tasti, textur, nasti]\n",
              "3      [stop, late, may, bank, holiday, rick, steve, ...\n",
              "4                           [select, menu, great, price]\n",
              "                             ...                        \n",
              "995                  [think, food, flavor, textur, lack]\n",
              "996                           [appetit, instantli, gone]\n",
              "997                   [overal, impress, would, go, back]\n",
              "998    [whole, experi, underwhelm, think, well, go, n...\n",
              "999    [hadnt, wast, enough, life, pour, salt, wound,...\n",
              "Name: Review, Length: 1000, dtype: object"
            ]
          },
          "metadata": {
            "tags": []
          },
          "execution_count": 757
        }
      ]
    },
    {
      "cell_type": "markdown",
      "metadata": {
        "id": "52cPTltcs6UF"
      },
      "source": [
        "##Lemmatization"
      ]
    },
    {
      "cell_type": "code",
      "metadata": {
        "colab": {
          "base_uri": "https://localhost:8080/"
        },
        "id": "TK_8ZOVctAGf",
        "outputId": "7f2d7997-57e8-4f3b-fbcb-4fa3ec6c96e5"
      },
      "source": [
        "from nltk.stem import WordNetLemmatizer\n",
        "lemmatizer=WordNetLemmatizer()\n",
        "nltk.download('wordnet')\n",
        "\n",
        "cnt=-1\n",
        "for cleanlist in clean: #iterating the dataframe\n",
        "  cnt=cnt+1\n",
        "  cleanlist=[lemmatizer.lemmatize(word) for word in cleanlist] \n",
        "  clean[cnt]=cleanlist\n",
        "clean"
      ],
      "execution_count": 758,
      "outputs": [
        {
          "output_type": "stream",
          "text": [
            "[nltk_data] Downloading package wordnet to /root/nltk_data...\n",
            "[nltk_data]   Package wordnet is already up-to-date!\n"
          ],
          "name": "stdout"
        },
        {
          "output_type": "execute_result",
          "data": {
            "text/plain": [
              "0                                     [wow, love, place]\n",
              "1                                          [crust, good]\n",
              "2                                 [tasti, textur, nasti]\n",
              "3      [stop, late, may, bank, holiday, rick, steve, ...\n",
              "4                           [select, menu, great, price]\n",
              "                             ...                        \n",
              "995                  [think, food, flavor, textur, lack]\n",
              "996                           [appetit, instantli, gone]\n",
              "997                   [overal, impress, would, go, back]\n",
              "998    [whole, experi, underwhelm, think, well, go, n...\n",
              "999    [hadnt, wast, enough, life, pour, salt, wound,...\n",
              "Name: Review, Length: 1000, dtype: object"
            ]
          },
          "metadata": {
            "tags": []
          },
          "execution_count": 758
        }
      ]
    },
    {
      "cell_type": "code",
      "metadata": {
        "colab": {
          "base_uri": "https://localhost:8080/"
        },
        "id": "gjbTgriNGu1h",
        "outputId": "3d8f69fb-df1e-4629-d682-20db2e0284d5"
      },
      "source": [
        "Cleaned_list=[' '.join(i) for i in clean]\n",
        "df = pd.DataFrame(Cleaned_list)\n",
        "df[0]"
      ],
      "execution_count": 759,
      "outputs": [
        {
          "output_type": "execute_result",
          "data": {
            "text/plain": [
              "0                                         wow love place\n",
              "1                                             crust good\n",
              "2                                     tasti textur nasti\n",
              "3      stop late may bank holiday rick steve recommen...\n",
              "4                                select menu great price\n",
              "                             ...                        \n",
              "995                        think food flavor textur lack\n",
              "996                               appetit instantli gone\n",
              "997                         overal impress would go back\n",
              "998    whole experi underwhelm think well go ninja su...\n",
              "999    hadnt wast enough life pour salt wound draw ti...\n",
              "Name: 0, Length: 1000, dtype: object"
            ]
          },
          "metadata": {
            "tags": []
          },
          "execution_count": 759
        }
      ]
    },
    {
      "cell_type": "code",
      "metadata": {
        "id": "ahyfwkIruMcM"
      },
      "source": [
        "from sklearn.feature_extraction.text import CountVectorizer\n",
        "x=vectorizer.fit_transform(df[0])\n",
        "y=data['Liked']"
      ],
      "execution_count": 760,
      "outputs": []
    },
    {
      "cell_type": "code",
      "metadata": {
        "colab": {
          "base_uri": "https://localhost:8080/"
        },
        "id": "_Mb6Bcf86Upx",
        "outputId": "9d5566e1-6049-4dff-d753-9dc26d9801ba"
      },
      "source": [
        "x.shape"
      ],
      "execution_count": 761,
      "outputs": [
        {
          "output_type": "execute_result",
          "data": {
            "text/plain": [
              "(1000, 2145)"
            ]
          },
          "metadata": {
            "tags": []
          },
          "execution_count": 761
        }
      ]
    },
    {
      "cell_type": "code",
      "metadata": {
        "colab": {
          "base_uri": "https://localhost:8080/"
        },
        "id": "JqVnqn2zIPDC",
        "outputId": "2ca98bd1-b261-46b1-8c88-d8f7896fb8eb"
      },
      "source": [
        "y.shape"
      ],
      "execution_count": 762,
      "outputs": [
        {
          "output_type": "execute_result",
          "data": {
            "text/plain": [
              "(1000,)"
            ]
          },
          "metadata": {
            "tags": []
          },
          "execution_count": 762
        }
      ]
    },
    {
      "cell_type": "code",
      "metadata": {
        "id": "SPh0UyoLIRPS"
      },
      "source": [
        "from sklearn.model_selection import train_test_split\n",
        "x_train,x_test,y_train,y_test=train_test_split(x,y)"
      ],
      "execution_count": 763,
      "outputs": []
    },
    {
      "cell_type": "code",
      "metadata": {
        "colab": {
          "base_uri": "https://localhost:8080/"
        },
        "id": "R-MIgsT9LBJN",
        "outputId": "817b0dfb-698c-4638-8cf4-6822cf40e2f3"
      },
      "source": [
        "x_train.shape"
      ],
      "execution_count": 764,
      "outputs": [
        {
          "output_type": "execute_result",
          "data": {
            "text/plain": [
              "(750, 2145)"
            ]
          },
          "metadata": {
            "tags": []
          },
          "execution_count": 764
        }
      ]
    },
    {
      "cell_type": "code",
      "metadata": {
        "colab": {
          "base_uri": "https://localhost:8080/"
        },
        "id": "ZKxgWOEpLD9J",
        "outputId": "80097547-52c0-432f-96be-5228833d08f7"
      },
      "source": [
        "y_train.shape"
      ],
      "execution_count": 765,
      "outputs": [
        {
          "output_type": "execute_result",
          "data": {
            "text/plain": [
              "(750,)"
            ]
          },
          "metadata": {
            "tags": []
          },
          "execution_count": 765
        }
      ]
    },
    {
      "cell_type": "code",
      "metadata": {
        "id": "dEGO_MJoLLiG",
        "colab": {
          "base_uri": "https://localhost:8080/"
        },
        "outputId": "e10cbd90-8992-4a61-8109-d0fa6e5fc159"
      },
      "source": [
        "x_test.shape"
      ],
      "execution_count": 766,
      "outputs": [
        {
          "output_type": "execute_result",
          "data": {
            "text/plain": [
              "(250, 2145)"
            ]
          },
          "metadata": {
            "tags": []
          },
          "execution_count": 766
        }
      ]
    },
    {
      "cell_type": "code",
      "metadata": {
        "id": "1DMqYJR5LSEN",
        "colab": {
          "base_uri": "https://localhost:8080/"
        },
        "outputId": "f5ef71c1-41df-42ee-bec9-e491827564a3"
      },
      "source": [
        "y_test.shape"
      ],
      "execution_count": 767,
      "outputs": [
        {
          "output_type": "execute_result",
          "data": {
            "text/plain": [
              "(250,)"
            ]
          },
          "metadata": {
            "tags": []
          },
          "execution_count": 767
        }
      ]
    },
    {
      "cell_type": "code",
      "metadata": {
        "id": "7DT9pxJsJHxh",
        "colab": {
          "base_uri": "https://localhost:8080/"
        },
        "outputId": "ae56e2a2-3e49-46bb-fc0b-cb514d0c56ad"
      },
      "source": [
        "from sklearn import naive_bayes\n",
        "model=naive_bayes.BernoulliNB()\n",
        "model.fit(x_train,y_train)"
      ],
      "execution_count": 768,
      "outputs": [
        {
          "output_type": "execute_result",
          "data": {
            "text/plain": [
              "BernoulliNB(alpha=1.0, binarize=0.0, class_prior=None, fit_prior=True)"
            ]
          },
          "metadata": {
            "tags": []
          },
          "execution_count": 768
        }
      ]
    },
    {
      "cell_type": "code",
      "metadata": {
        "id": "mvlSR_p7Lj0A",
        "colab": {
          "base_uri": "https://localhost:8080/"
        },
        "outputId": "4bd4df1c-76b8-4f2f-f82f-31d3b56b3627"
      },
      "source": [
        "from sklearn.metrics import accuracy_score\n",
        "prediction=model.predict(x_test)\n",
        "accuracy_score(prediction,y_test)"
      ],
      "execution_count": 769,
      "outputs": [
        {
          "output_type": "execute_result",
          "data": {
            "text/plain": [
              "0.728"
            ]
          },
          "metadata": {
            "tags": []
          },
          "execution_count": 769
        }
      ]
    },
    {
      "cell_type": "code",
      "metadata": {
        "colab": {
          "base_uri": "https://localhost:8080/"
        },
        "id": "mBXhykr9OV2C",
        "outputId": "d5421423-5860-4586-e867-d1ec6697d30d"
      },
      "source": [
        "print(model.predict(vectorizer.transform(([\"The food was lovely\"]))))"
      ],
      "execution_count": 770,
      "outputs": [
        {
          "output_type": "stream",
          "text": [
            "[1]\n"
          ],
          "name": "stdout"
        }
      ]
    }
  ]
}