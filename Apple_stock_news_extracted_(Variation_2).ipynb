{
  "nbformat": 4,
  "nbformat_minor": 0,
  "metadata": {
    "colab": {
      "name": "Apple stock news extracted (Variation 2).ipynb",
      "provenance": [],
      "authorship_tag": "ABX9TyN2VgkfOqz8cE8pXQ74Qi5g",
      "include_colab_link": true
    },
    "kernelspec": {
      "name": "python3",
      "display_name": "Python 3"
    }
  },
  "cells": [
    {
      "cell_type": "markdown",
      "metadata": {
        "id": "view-in-github",
        "colab_type": "text"
      },
      "source": [
        "<a href=\"https://colab.research.google.com/github/devanshmesson/Social-Web-and-Mobile-analytics/blob/main/Apple_stock_news_extracted_(Variation_2).ipynb\" target=\"_parent\"><img src=\"https://colab.research.google.com/assets/colab-badge.svg\" alt=\"Open In Colab\"/></a>"
      ]
    },
    {
      "cell_type": "markdown",
      "metadata": {
        "id": "Clk__FgPF7XS"
      },
      "source": [
        "##Access API and extract Apple stock news"
      ]
    },
    {
      "cell_type": "code",
      "metadata": {
        "id": "cCkeVK9QEBiy",
        "colab": {
          "base_uri": "https://localhost:8080/"
        },
        "outputId": "aef18387-8cb2-4c11-9fdb-b16b7a30367e"
      },
      "source": [
        "import requests\r\n",
        "import nltk\r\n",
        "nltk.download('stopwords')  \r\n",
        "nltk.download('punkt')\r\n",
        "from nltk.corpus import stopwords  \r\n",
        "from nltk.tokenize import word_tokenize \r\n",
        "from nltk.stem import PorterStemmer \r\n",
        "ps = PorterStemmer() \r\n",
        "\r\n",
        "\r\n",
        "\r\n",
        "\r\n",
        "# using keyword AAPL, to collect all Apple related stock news\r\n",
        "#using API provided by newsapi.org\r\n",
        "url = ('https://newsapi.org/v2/everything?'\r\n",
        "       'q=AAPL&'\r\n",
        "       'from=2021-02-12&'\r\n",
        "       'sortBy=popularity&'\r\n",
        "       'apiKey=d0708e0c9220410984f0081e01b998a6')\r\n",
        "  "
      ],
      "execution_count": 54,
      "outputs": [
        {
          "output_type": "stream",
          "text": [
            "[nltk_data] Downloading package stopwords to /root/nltk_data...\n",
            "[nltk_data]   Package stopwords is already up-to-date!\n",
            "[nltk_data] Downloading package punkt to /root/nltk_data...\n",
            "[nltk_data]   Package punkt is already up-to-date!\n"
          ],
          "name": "stdout"
        }
      ]
    },
    {
      "cell_type": "markdown",
      "metadata": {
        "id": "e8Rttq_gGTI2"
      },
      "source": [
        "##Extract the articles page of newsapi website"
      ]
    },
    {
      "cell_type": "code",
      "metadata": {
        "colab": {
          "base_uri": "https://localhost:8080/"
        },
        "id": "14sBnWEfGR7s",
        "outputId": "d7229d52-3893-40cd-a299-d08009a57190"
      },
      "source": [
        "open_bbc_page = requests.get(url).json() \r\n",
        "\r\n",
        "article = open_bbc_page[\"articles\"] \r\n",
        "results = [] \r\n",
        "news=[]\r\n",
        "for ar in article:\r\n",
        "  results.append(ar[\"title\"]) \r\n",
        "\r\n",
        "\r\n",
        "for i in range(len(results)):\r\n",
        "  news.append(results[i].lower())  #Lowering the case\r\n",
        "  print(results[i])"
      ],
      "execution_count": 56,
      "outputs": [
        {
          "output_type": "stream",
          "text": [
            "Tesla and Apple are incredibly important companies, but their progress on self-driving vehicles is pathetic (TSLA, AAPL)\n",
            "Apple's reported plan to build a car the way it makes iPhones would be smart, experts say — but outsourcing Project Titan is still a massive risk (AAPL, MGA)\n",
            "The 'Apple Car' is actually being made by Henrik Fisker and Foxconn — and Apple has nothing to do with it (FSR, AAPL)\n",
            "Facebook is making the case that small businesses rely on personalized ads ahead of a major Apple software update that could devastate part of Facebook's ads business (FB, AAPL)\n",
            "Are Facebook's Best Days Behind It?\n",
            "Apple Discontinues The iMac Pro - Benzinga\n",
            "Rocket Companies Overtakes GameStop, Palantir As WallStreetBets' Top Interest - Benzinga\n",
            "Apple set to be Knocked off Perch by Spotify - Baystreet.ca\n",
            "No, Apple Still Won't Quite Let You Set A Default Music Service in iOS 14.5 - Benzinga\n",
            "Dow Jones Hits Record High With Biden Set To Sign Covid Stimulus Bill; Roblox Stock Jumps - Investor's Business Daily\n",
            "Hannity: The whole world is watching President Biden's struggles\n",
            "Florida man charged with plotting attack on Trump supporters\n",
            "Miami to pay $100K after Mayor Suarez’s aide accused of fondling teen at city hall\n",
            "‘Why Are You Still Here?’\n",
            "Warren Buffett praises AAPL stock in annual letter, Berkshire’s stake now valued at $120 billion\n",
            "AAPL shareholders meeting recap: Tim Cook talks COVID-19, App Store regulation, and more\n",
            "This week’s top stories: What to expect from the iPhone through 2023, iOS 14.5 changes, more\n",
            ": ‘Fortnite’ maker Epic takes its Apple battle to Brussels\n",
            "The Wall Street Journal: Foxconn to build cars for electric-vehicle startup Fisker\n",
            ": Epic Games buys ‘Fall Guys’ maker Tonic Games\n"
          ],
          "name": "stdout"
        }
      ]
    },
    {
      "cell_type": "markdown",
      "metadata": {
        "id": "OuS0oNSOZn4m"
      },
      "source": [
        "##Performing tokenization,Stemming, Removing stopwords, Counting the tokens, Print Output\r\n",
        "\r\n",
        "\r\n",
        "\r\n",
        "\r\n"
      ]
    },
    {
      "cell_type": "code",
      "metadata": {
        "colab": {
          "base_uri": "https://localhost:8080/"
        },
        "id": "tKohEihlcnE3",
        "outputId": "92dbb22c-bb81-42ff-8de6-ac2d7f60a617"
      },
      "source": [
        "sett=[]\r\n",
        "maxi_word=\"\"\r\n",
        "maxi_number=-1\r\n",
        "filtered_sentence=[]\r\n",
        "punctuation = '''!()-[]{};:'\"\\, <>./?@#$%^&*_~'''\r\n",
        "\r\n",
        "\r\n",
        "  \r\n",
        "for i in news:\r\n",
        "  example_sent=i\r\n",
        "  stop_words = set(stopwords.words('english'))  \r\n",
        "  word_tokens = word_tokenize(example_sent)   #Performing tokenization \r\n",
        "\r\n",
        "  for w in word_tokens:\r\n",
        "    w=ps.stem(w)                     #Performed stemming\r\n",
        "\r\n",
        "  for w in word_tokens:  \r\n",
        "    if w not in stop_words and w not in punctuation:  \r\n",
        "        filtered_sentence.append(w)    #Removing the stopwords\r\n",
        "\r\n",
        "  for k in filtered_sentence:\r\n",
        "    if k not in sett:\r\n",
        "      sett.append(k)\r\n",
        "\r\n",
        "for a in range(0, len(sett)):\r\n",
        "  if filtered_sentence.count(sett[a]) > maxi_number:  #Finding out the word with maximum frequency\r\n",
        "    maxi_number=filtered_sentence.count(sett[a])\r\n",
        "    maxi_word=sett[a]\r\n",
        "\r\n",
        "print(\"\\nMost Frequent word is \\\"\",maxi_word,\"\\\" with frequency:\",maxi_number)\r\n"
      ],
      "execution_count": 57,
      "outputs": [
        {
          "output_type": "stream",
          "text": [
            "\n",
            "Most Frequent word is \" apple \" with frequency: 8\n"
          ],
          "name": "stdout"
        }
      ]
    },
    {
      "cell_type": "markdown",
      "metadata": {
        "id": "MWlnpwI-kbgv"
      },
      "source": [
        "#Word with largest frequency is apple"
      ]
    },
    {
      "cell_type": "markdown",
      "metadata": {
        "id": "6TBGRe3TersC"
      },
      "source": [
        "##Saving the extracted tweets in a .csv file"
      ]
    },
    {
      "cell_type": "code",
      "metadata": {
        "id": "yHdyGwi9G6c1"
      },
      "source": [
        "import pandas as pd\r\n",
        "df=pd.DataFrame()\r\n",
        "df['Apple Stock News']=results\r\n",
        "df.to_csv('Apple Stock News_extracted.csv')"
      ],
      "execution_count": 45,
      "outputs": []
    },
    {
      "cell_type": "markdown",
      "metadata": {
        "id": "WcvSzG5EF5sR"
      },
      "source": [
        ""
      ]
    }
  ]
}