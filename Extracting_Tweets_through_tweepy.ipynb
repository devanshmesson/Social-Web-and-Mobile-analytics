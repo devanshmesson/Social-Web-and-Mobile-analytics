{
  "nbformat": 4,
  "nbformat_minor": 0,
  "metadata": {
    "colab": {
      "name": "Extracting Tweets through tweepy.ipynb",
      "provenance": [],
      "collapsed_sections": [],
      "include_colab_link": true
    },
    "kernelspec": {
      "name": "python3",
      "display_name": "Python 3"
    }
  },
  "cells": [
    {
      "cell_type": "markdown",
      "metadata": {
        "id": "view-in-github",
        "colab_type": "text"
      },
      "source": [
        "<a href=\"https://colab.research.google.com/github/devanshmesson/Social-Web-and-Mobile-analytics/blob/main/Extracting_Tweets_through_tweepy.ipynb\" target=\"_parent\"><img src=\"https://colab.research.google.com/assets/colab-badge.svg\" alt=\"Open In Colab\"/></a>"
      ]
    },
    {
      "cell_type": "markdown",
      "metadata": {
        "id": "vIaUygM2c087"
      },
      "source": [
        "##Inputting Twitter  API "
      ]
    },
    {
      "cell_type": "code",
      "metadata": {
        "id": "1qC6vkfzt_zu"
      },
      "source": [
        "api = \"GPsb6P5ijsBI69yOCFQilMVH2\"\n",
        "api_secret = \"7EHOn5VUw2SmmoWK4nCIX4jud1yTvDz6ydovt68oohAh8c8feQ\"\n",
        "access = \"1349986617247756294-2NJRVhKCjranmDNJQv5Nf1VXho2xtH\"\n",
        "access_secret = \"Q2HtjDLLsYPN6Gs16XOeoKp3yzU1AUpwTUAOSEvdsfoHV\""
      ],
      "execution_count": null,
      "outputs": []
    },
    {
      "cell_type": "markdown",
      "metadata": {
        "id": "18o_JI1yc93V"
      },
      "source": [
        "##Using Tweepy library to extract tweets from API"
      ]
    },
    {
      "cell_type": "code",
      "metadata": {
        "id": "DZ11G446ufu4",
        "colab": {
          "base_uri": "https://localhost:8080/"
        },
        "outputId": "02c8c0fc-667b-4d51-91e1-e35ee12ac798"
      },
      "source": [
        "import tweepy\r\n",
        "import nltk\r\n",
        "nltk.download('stopwords')\r\n",
        "nltk.download('punkt')\r\n",
        "\r\n",
        "from nltk.corpus import stopwords  \r\n",
        "from nltk.tokenize import word_tokenize "
      ],
      "execution_count": null,
      "outputs": [
        {
          "output_type": "stream",
          "text": [
            "[nltk_data] Downloading package stopwords to /root/nltk_data...\n",
            "[nltk_data]   Package stopwords is already up-to-date!\n",
            "[nltk_data] Downloading package punkt to /root/nltk_data...\n",
            "[nltk_data]   Package punkt is already up-to-date!\n"
          ],
          "name": "stdout"
        }
      ]
    },
    {
      "cell_type": "markdown",
      "metadata": {
        "id": "ge4Ksv9UdONj"
      },
      "source": [
        "##Setting up API"
      ]
    },
    {
      "cell_type": "code",
      "metadata": {
        "id": "itWUysksu-QW"
      },
      "source": [
        "auth = tweepy.OAuthHandler(api,api_secret)\n",
        "auth.set_access_token(access,access_secret)\n",
        "api = tweepy.API(auth)"
      ],
      "execution_count": null,
      "outputs": []
    },
    {
      "cell_type": "markdown",
      "metadata": {
        "id": "O5paeRVVdT0L"
      },
      "source": [
        ""
      ]
    },
    {
      "cell_type": "markdown",
      "metadata": {
        "id": "Dky0DgkFdT5j"
      },
      "source": [
        "##Extracting tweets containing a particular topic"
      ]
    },
    {
      "cell_type": "code",
      "metadata": {
        "id": "UXaO-uL9vecP"
      },
      "source": [
        "tweets = api.search(\"narendra modi stadium\",count=1000,result_type=\"recent\")"
      ],
      "execution_count": null,
      "outputs": []
    },
    {
      "cell_type": "markdown",
      "metadata": {
        "id": "_fUWg_cRdl3R"
      },
      "source": [
        "\r\n",
        "\r\n",
        "\r\n",
        "##Printing extracted tweets in english"
      ]
    },
    {
      "cell_type": "code",
      "metadata": {
        "id": "8op2sB7NwPP9",
        "colab": {
          "base_uri": "https://localhost:8080/"
        },
        "outputId": "880c257b-2b16-44d4-d1cb-6cd60aba3208"
      },
      "source": [
        "cnt=0\n",
        "Tweets=[]\n",
        "for tweet in tweets:\n",
        "   if tweet.lang == \"en\":\n",
        "     Tweets.append(tweet.text.lower())\n",
        "     cnt=cnt+1\n",
        "     print(tweet.text.lower())"
      ],
      "execution_count": null,
      "outputs": [
        {
          "output_type": "stream",
          "text": [
            "rt @gopalvermaeng: 2 crore jobs/ year ❌\n",
            "15 lakh ❌\n",
            "double farmer income ❌\n",
            "kashi to become kyoto ❌\n",
            "demo to remove terrorism, naxalism ❌\n",
            "gst t…\n",
            "rt @ani: #indvseng | india won by 10 wickets against england in the 3rd test at narendra modi stadium, lead the 4-match series 2-1 https://…\n",
            "rt @holland_tom: just for the record, &amp; to save marvel’s profits in india, i freely acknowledge that narendra modi is a man of immense humi…\n",
            "rt @norbertelekes: india: world's largest cricket stadium named after pm narendra modi\n",
            "rt @pbhushan1: stalin, mussolini, saddam, kim 2 song: after lending his name to a stadium, narendra modi joins league of notorious world le…\n",
            "rt @suvarnashre: the much hyped gujarat model fully exposed .\n",
            "\n",
            "narendra modi stadium pitch is classical example of it !😂😂😂\n",
            "\n",
            "but england tea…\n",
            "rt @accountantvarun: sanjay raut protesting against naming of stadium after narendra modi. \n",
            "courtesy - facebook https://t.co/9bq0oyajxx\n",
            "read about the heavy meltdown the left- liberal gang had after the inauguration of the world's largest cricket stad… https://t.co/qk0bqsh6xj\n",
            "rt @ravisinghka: indra gandhi massacred sikhs and has an airport named after her ....\n",
            "\n",
            "narendra modi massacred muslims &amp; has a stadium name…\n",
            "rt @suvarnashre: the much hyped gujarat model fully exposed .\n",
            "\n",
            "narendra modi stadium pitch is classical example of it !😂😂😂\n",
            "\n",
            "but england tea…\n",
            "rt @gopalvermaeng: 2 crore jobs/ year ❌\n",
            "15 lakh ❌\n",
            "double farmer income ❌\n",
            "kashi to become kyoto ❌\n",
            "demo to remove terrorism, naxalism ❌\n",
            "gst t…\n",
            "rt @kunalkamra88: my commentary debut at narendra modi stadium.\n",
            "\n",
            "🙏🏽🙏🏽🙏🏽 https://t.co/fmuqg2417v\n",
            "rt @kunalkamra88: my commentary debut at narendra modi stadium.\n",
            "\n",
            "🙏🏽🙏🏽🙏🏽 https://t.co/fmuqg2417v\n",
            "rt @saumya_miishra: 11 places renamed after 'humayun'\n",
            "61 places renamed after 'babur'\n",
            "63 places renamed after 'shah jahan'\n",
            "141 places renam…\n",
            "rt @ani: \"two brothers (adani &amp; ambani) are there on the two sides (ends) of the stadium (narendra modi stadium). 'hum do, humare do ho gay…\n",
            "rt @kunalkamra88: my commentary debut at narendra modi stadium.\n",
            "\n",
            "🙏🏽🙏🏽🙏🏽 https://t.co/fmuqg2417v\n",
            "rt @theatulmishra: narendra modi stadium and clueless bhakts (a thread).\n",
            "\n",
            "remember that bandhgala suit, that had pm modi’s name embroidered…\n",
            "rt @cpimspeak: fitting that the two ends of the narendra modi stadium are named after adani and ambani. the sole purpose of the modi govt i…\n",
            "rt @gopalvermaeng: 2 crore jobs/ year ❌\n",
            "15 lakh ❌\n",
            "double farmer income ❌\n",
            "kashi to become kyoto ❌\n",
            "demo to remove terrorism, naxalism ❌\n",
            "gst t…\n",
            "rt @spiritofcongres: narendra modi naming a stadium after himself is exactly like savarkar calling himself a veer. \n",
            "\n",
            "#veersavarkar\n",
            "rt @cpimspeak: fitting that the two ends of the narendra modi stadium are named after adani and ambani. the sole purpose of the modi govt i…\n",
            "rt @saumya_miishra: 11 places renamed after 'humayun'\n",
            "61 places renamed after 'babur'\n",
            "63 places renamed after 'shah jahan'\n",
            "141 places renam…\n",
            "rt @haramiparindey: when she is sending nudes but you’re busy watching the action in narendra modi stadium. #indveng https://t.co/cri4dd7hry\n",
            "rt @kunalkamra88: my commentary debut at narendra modi stadium.\n",
            "\n",
            "🙏🏽🙏🏽🙏🏽 https://t.co/fmuqg2417v\n",
            "rt @pbhushan1: stalin, mussolini, saddam, kim 2 song: after lending his name to a stadium, narendra modi joins league of notorious world le…\n",
            "rt @kunalkamra88: my commentary debut at narendra modi stadium.\n",
            "\n",
            "🙏🏽🙏🏽🙏🏽 https://t.co/fmuqg2417v\n",
            "rt @ani: \"two brothers (adani &amp; ambani) are there on the two sides (ends) of the stadium (narendra modi stadium). 'hum do, humare do ho gay…\n",
            "rt @spiritofcongres: narendra modi naming a stadium after himself is exactly like savarkar calling himself a veer. \n",
            "\n",
            "#veersavarkar\n",
            "rt @kunalkamra88: my commentary debut at narendra modi stadium.\n",
            "\n",
            "🙏🏽🙏🏽🙏🏽 https://t.co/fmuqg2417v\n",
            "rt @kunalkamra88: my commentary debut at narendra modi stadium.\n",
            "\n",
            "🙏🏽🙏🏽🙏🏽 https://t.co/fmuqg2417v\n",
            "narendra modi naming a stadium after himself is exactly like savarkar calling himself a veer. \n",
            "\n",
            "#veersavarkar\n",
            "rt @totheeepoint: as soon as #moteracricketstadium was renamed as the narendra modi stadium, we defeated one of the best test sides in the…\n",
            "rt @holland_tom: just for the record, &amp; to save marvel’s profits in india, i freely acknowledge that narendra modi is a man of immense humi…\n",
            "rt @surrbhim: look who is the new entry in the list !! \n",
            "\n",
            "our very own narendra modi in the fascist dictator list who named stadium after hi…\n",
            "rt @kunalkamra88: my commentary debut at narendra modi stadium.\n",
            "\n",
            "🙏🏽🙏🏽🙏🏽 https://t.co/fmuqg2417v\n",
            "rt @spiritofcongres: narendra modi naming a stadium after himself is exactly like savarkar calling himself a veer. \n",
            "\n",
            "#veersavarkar\n",
            "rt @scroll_in: naming a stadium after a sitting prime minister places narendra modi in the unenviable pantheon of the likes of hitler, stal…\n",
            "rt @kunalkamra88: my commentary debut at narendra modi stadium.\n",
            "\n",
            "🙏🏽🙏🏽🙏🏽 https://t.co/fmuqg2417v\n",
            "this the truth of narendra modi stadium @rahulgandhi @incindia @lambaalka @arvindkejriwal https://t.co/qulkym37zq\n",
            "rt @threadreaderapp: @sladdha bonjour, the unroll you asked for: narendra modi stadium and clueless bhakts (a thread). remember that bandhg…\n",
            "rt @shazi786_: what if modi starts playing cricket at narendra modi stadium?\n",
            "\n",
            "#narendramodistadium \n",
            "#सरदार_पटेल_का_अपमान\n",
            "#मोदी_मतलब_देश_चौप…\n",
            "rt @theatulmishra: narendra modi stadium and clueless bhakts (a thread).\n",
            "\n",
            "remember that bandhgala suit, that had pm modi’s name embroidered…\n",
            "rt @spiritofcongres: narendra modi naming a stadium after himself is exactly like savarkar calling himself a veer. \n",
            "\n",
            "#veersavarkar\n",
            "rt @kunalkamra88: my commentary debut at narendra modi stadium.\n",
            "\n",
            "🙏🏽🙏🏽🙏🏽 https://t.co/fmuqg2417v\n",
            "rt @scroll_in: naming a stadium after a sitting prime minister places narendra modi in the unenviable pantheon of the likes of hitler, stal…\n",
            "rt @kunalkamra88: my commentary debut at narendra modi stadium.\n",
            "\n",
            "🙏🏽🙏🏽🙏🏽 https://t.co/fmuqg2417v\n",
            "rt @kunalkamra88: my commentary debut at narendra modi stadium.\n",
            "\n",
            "🙏🏽🙏🏽🙏🏽 https://t.co/fmuqg2417v\n",
            "rt @ra_bies: good morning to e’one  specially the resident of sonia vihar &amp; jawahar nagar, students of jnu &amp; kamla nehru college &amp; recipien…\n",
            "rt @ravisinghka: indra gandhi massacred sikhs and has an airport named after her ....\n",
            "\n",
            "narendra modi massacred muslims &amp; has a stadium name…\n",
            "rt @ravisinghka: indra gandhi massacred sikhs and has an airport named after her ....\n",
            "\n",
            "narendra modi massacred muslims &amp; has a stadium name…\n",
            "rt @gopalvermaeng: 2 crore jobs/ year ❌\n",
            "15 lakh ❌\n",
            "double farmer income ❌\n",
            "kashi to become kyoto ❌\n",
            "demo to remove terrorism, naxalism ❌\n",
            "gst t…\n",
            "rt @kunalkamra88: my commentary debut at narendra modi stadium.\n",
            "\n",
            "🙏🏽🙏🏽🙏🏽 https://t.co/fmuqg2417v\n",
            "rt @gopalvermaeng: 2 crore jobs/ year ❌\n",
            "15 lakh ❌\n",
            "double farmer income ❌\n",
            "kashi to become kyoto ❌\n",
            "demo to remove terrorism, naxalism ❌\n",
            "gst t…\n",
            "rt @sureshpnagare: ishant and bumrah are jobless in narendra modi stadium 😐 #modi_job_do #indvseng #testcricket  #400test #rohit #3rdtest #…\n",
            "rt @saketgokhale: the one thing that’d be incredibly fitting &amp; poetic is someday when the mass trials of those who ran &amp; enabled the crimes…\n",
            "there are two stadiums in ahmedabad.\n",
            "folks confused the two it seems. \n",
            "sardar vallabhbhai stadium is the old one an… https://t.co/kfckiu3q3c\n",
            "rt @hemant_1110_: we are not upset on naming stadium on narendra modi, but changing name of sadar patel is insults to our great leader.\n",
            "he…\n",
            "rt @gopalvermaeng: 2 crore jobs/ year ❌\n",
            "15 lakh ❌\n",
            "double farmer income ❌\n",
            "kashi to become kyoto ❌\n",
            "demo to remove terrorism, naxalism ❌\n",
            "gst t…\n",
            "rt @airaaaofficial: a low scoring game at narendra modi stadium is a fitting tribute to his low scoring in jobs. #modi_job_do #indveng \n",
            "#मो…\n",
            "rt @kunalkamra88: my commentary debut at narendra modi stadium.\n",
            "\n",
            "🙏🏽🙏🏽🙏🏽 https://t.co/fmuqg2417v\n",
            "rt @airaaaofficial: a low scoring game at narendra modi stadium is a fitting tribute to his low scoring in jobs. #modi_job_do #indveng \n",
            "#मो…\n",
            "rt @santvarun: a pitch that promises 5 days of cricket and lasts only 2 days. ladies and gentlemen, presenting the narendra modi stadium.\n",
            "yuvraj singh criticizes the ahmedabad pitch after india beats england in the 3rd test match in narendra modi stadiu… https://t.co/o0heztswtq\n",
            "rt @surrbhim: look who is the new entry in the list !! \n",
            "\n",
            "our very own narendra modi in the fascist dictator list who named stadium after hi…\n",
            "stadio mussolini built in 1930s named after benito mussolini during his rule.\n",
            "\n",
            "hitler had named the football stadiu… https://t.co/hduh4nqxab\n",
            "rt @rupert_costa: what a shame:\n",
            "name of the largest cricket stadium changed from sardar patel stadium to narendra modi stadium\n",
            "this is the…\n",
            "rt @nehaltyagi08: protest against - narendra modi stadium\n",
            "protest venue - indira gandhi indoor stadium\n",
            "protest theme - return of rajiv gand…\n",
            "rt @rupert_costa: this was a strategy to prove that when the stadium is named after narendra modi india got a super victory.\n",
            "an attempt to…\n",
            "rt @scroll_in: naming a stadium after a sitting prime minister places narendra modi in the unenviable pantheon of the likes of hitler, stal…\n",
            "rt @kunalkamra88: my commentary debut at narendra modi stadium.\n",
            "\n",
            "🙏🏽🙏🏽🙏🏽 https://t.co/fmuqg2417v\n",
            "rt @airaaaofficial: a low scoring game at narendra modi stadium is a fitting tribute to his low scoring in jobs. #modi_job_do #indveng \n",
            "#मो…\n",
            "rt @airaaaofficial: a low scoring game at narendra modi stadium is a fitting tribute to his low scoring in jobs. #modi_job_do #indveng \n",
            "#मो…\n",
            "rt @theatulmishra: narendra modi stadium and clueless bhakts (a thread).\n",
            "\n",
            "remember that bandhgala suit, that had pm modi’s name embroidered…\n",
            "rt @gauravpandhi: 2 crore jobs/ year ❌\n",
            "15 lakh ❌\n",
            "100 smart cities ❌\n",
            "bullet train ❌\n",
            "double farmer income ❌\n",
            "kashi to become kyoto ❌\n",
            "demo to r…\n",
            "rt @spiritofcongres: narendra modi naming a stadium after himself is exactly like savarkar calling himself a veer. \n",
            "\n",
            "#veersavarkar\n",
            "rt @dhirubhaitrive1: @swamy39 bcci not change name of stadium. sardar patel stadium is situated in naranpura ahmedabad. this is motera stad…\n",
            "rt @theatulmishra: narendra modi stadium and clueless bhakts (a thread).\n",
            "\n",
            "remember that bandhgala suit, that had pm modi’s name embroidered…\n",
            "rt @kunalkamra88: my commentary debut at narendra modi stadium.\n",
            "\n",
            "🙏🏽🙏🏽🙏🏽 https://t.co/fmuqg2417v\n",
            "rt @kunalkamra88: my commentary debut at narendra modi stadium.\n",
            "\n",
            "🙏🏽🙏🏽🙏🏽 https://t.co/fmuqg2417v\n",
            "rt @opindia_com: after 450 buildings, projects being named after nehru-gandhi dynasty, ‘liberals’ outrage about stadium named after pm modi…\n",
            "rt @pbhushan1: stalin, mussolini, saddam, kim 2 song: after lending his name to a stadium, narendra modi joins league of notorious world le…\n",
            "rt @kunalkamra88: my commentary debut at narendra modi stadium.\n",
            "\n",
            "🙏🏽🙏🏽🙏🏽 https://t.co/fmuqg2417v\n"
          ],
          "name": "stdout"
        }
      ]
    },
    {
      "cell_type": "markdown",
      "metadata": {
        "id": "E2nQha5at211"
      },
      "source": [
        "##Cleaning uneccessary information\r\n",
        "   -Removing tags and links and inserting cleaned tweets in a dataframe\r\n",
        "\r\n"
      ]
    },
    {
      "cell_type": "code",
      "metadata": {
        "id": "i-wnEYcqebGh"
      },
      "source": [
        "import pandas as pd\r\n",
        "df=pd.DataFrame()\r\n",
        "df['Tweets']=Tweets\r\n",
        "df[\"Tweets\"]= df[\"Tweets\"].str.replace(\"@\",\"\",case=False)\r\n",
        "df[\"Tweets\"]= df[\"Tweets\"].str.replace(\"RT\",\"\",case=False)\r\n",
        "df['Tweets']\r\n",
        "Tweets=df[\"Tweets\"]"
      ],
      "execution_count": null,
      "outputs": []
    },
    {
      "cell_type": "code",
      "metadata": {
        "id": "jb2N-LN1VUpk",
        "colab": {
          "base_uri": "https://localhost:8080/"
        },
        "outputId": "f0794f0e-51d6-4c54-bd0d-61c5615cba42"
      },
      "source": [
        "sett=[]\r\n",
        "maxi_word=\"\"\r\n",
        "maxi_number=-1\r\n",
        "filtered_sentence=[]\r\n",
        "\r\n",
        "  \r\n",
        "for i in Tweets:\r\n",
        "  example_sent=i\r\n",
        "  stop_words = set(stopwords.words('english'))  \r\n",
        "  word_tokens = word_tokenize(example_sent)  \r\n",
        "  for w in word_tokens:  \r\n",
        "    if w not in stop_words:  \r\n",
        "        filtered_sentence.append(w)  \r\n",
        "  for k in filtered_sentence:\r\n",
        "    if k not in sett:\r\n",
        "      sett.append(k)\r\n",
        "\r\n",
        "print(filtered_sentence,end=\"\\n\\n\")\r\n",
        "for a in range(0, len(sett)):\r\n",
        "  #print('Frequency of', sett[a], 'is :', count1.count(sett[a]),end=\"|\")\r\n",
        "  if filtered_sentence.count(sett[a]) > maxi_number and sett[a]!=':':\r\n",
        "    maxi_number=filtered_sentence.count(sett[a])\r\n",
        "    maxi_word=sett[a]\r\n",
        "    #print(sett[a])\r\n",
        "\r\n",
        "print(\"\\nMost Frequent word is\",maxi_word,\"with frequency:\",maxi_number)"
      ],
      "execution_count": null,
      "outputs": [
        {
          "output_type": "stream",
          "text": [
            "['gopalvermaeng', ':', '2', 'crore', 'jobs/', 'year', '❌', '15', 'lakh', '❌', 'double', 'farmer', 'income', '❌', 'kashi', 'become', 'kyoto', '❌', 'demo', 'remove', 'terrorism', ',', 'naxalism', '❌', 'gst', 't…', 'ani', ':', '#', 'indvseng', '|', 'india', '10', 'wickets', 'england', '3rd', 'test', 'narendra', 'modi', 'stadium', ',', 'lead', '4-match', 'series', '2-1', 'https', ':', '//…', 'holland_tom', ':', 'record', ',', '&', 'amp', ';', 'save', 'marvel', '’', 'profits', 'india', ',', 'freely', 'acknowledge', 'narendra', 'modi', 'man', 'immense', 'humi…', 'norbeelekes', ':', 'india', ':', 'world', \"'s\", 'largest', 'cricket', 'stadium', 'named', 'pm', 'narendra', 'modi', 'pbhushan1', ':', 'stalin', ',', 'mussolini', ',', 'saddam', ',', 'kim', '2', 'song', ':', 'lending', 'name', 'stadium', ',', 'narendra', 'modi', 'joins', 'league', 'notorious', 'world', 'le…', 'suvarnashre', ':', 'much', 'hyped', 'gujarat', 'model', 'fully', 'exposed', '.', 'narendra', 'modi', 'stadium', 'pitch', 'classical', 'example', '!', '😂😂😂', 'england', 'tea…', 'accountantvarun', ':', 'sanjay', 'raut', 'protesting', 'naming', 'stadium', 'narendra', 'modi', '.', 'couesy', '-', 'facebook', 'https', ':', '//t.co/9bq0oyajxx', 'read', 'heavy', 'meltdown', 'left-', 'liberal', 'gang', 'inauguration', 'world', \"'s\", 'largest', 'cricket', 'stad…', 'https', ':', '//t.co/qk0bqsh6xj', 'ravisinghka', ':', 'indra', 'gandhi', 'massacred', 'sikhs', 'airpo', 'named', '...', '.', 'narendra', 'modi', 'massacred', 'muslims', '&', 'amp', ';', 'stadium', 'name…', 'suvarnashre', ':', 'much', 'hyped', 'gujarat', 'model', 'fully', 'exposed', '.', 'narendra', 'modi', 'stadium', 'pitch', 'classical', 'example', '!', '😂😂😂', 'england', 'tea…', 'gopalvermaeng', ':', '2', 'crore', 'jobs/', 'year', '❌', '15', 'lakh', '❌', 'double', 'farmer', 'income', '❌', 'kashi', 'become', 'kyoto', '❌', 'demo', 'remove', 'terrorism', ',', 'naxalism', '❌', 'gst', 't…', 'kunalkamra88', ':', 'commentary', 'debut', 'narendra', 'modi', 'stadium', '.', '🙏🏽🙏🏽🙏🏽', 'https', ':', '//t.co/fmuqg2417v', 'kunalkamra88', ':', 'commentary', 'debut', 'narendra', 'modi', 'stadium', '.', '🙏🏽🙏🏽🙏🏽', 'https', ':', '//t.co/fmuqg2417v', 'saumya_miishra', ':', '11', 'places', 'renamed', \"'humayun'\", '61', 'places', 'renamed', \"'babur'\", '63', 'places', 'renamed', \"'shah\", \"jahan'\", '141', 'places', 'renam…', 'ani', ':', '``', 'two', 'brothers', '(', 'adani', '&', 'amp', ';', 'ambani', ')', 'two', 'sides', '(', 'ends', ')', 'stadium', '(', 'narendra', 'modi', 'stadium', ')', '.', \"'hum\", ',', 'humare', 'ho', 'gay…', 'kunalkamra88', ':', 'commentary', 'debut', 'narendra', 'modi', 'stadium', '.', '🙏🏽🙏🏽🙏🏽', 'https', ':', '//t.co/fmuqg2417v', 'theatulmishra', ':', 'narendra', 'modi', 'stadium', 'clueless', 'bhakts', '(', 'thread', ')', '.', 'remember', 'bandhgala', 'suit', ',', 'pm', 'modi', '’', 'name', 'embroidered…', 'cpimspeak', ':', 'fitting', 'two', 'ends', 'narendra', 'modi', 'stadium', 'named', 'adani', 'ambani', '.', 'sole', 'purpose', 'modi', 'govt', 'i…', 'gopalvermaeng', ':', '2', 'crore', 'jobs/', 'year', '❌', '15', 'lakh', '❌', 'double', 'farmer', 'income', '❌', 'kashi', 'become', 'kyoto', '❌', 'demo', 'remove', 'terrorism', ',', 'naxalism', '❌', 'gst', 't…', 'spiritofcongres', ':', 'narendra', 'modi', 'naming', 'stadium', 'exactly', 'like', 'savarkar', 'calling', 'veer', '.', '#', 'veersavarkar', 'cpimspeak', ':', 'fitting', 'two', 'ends', 'narendra', 'modi', 'stadium', 'named', 'adani', 'ambani', '.', 'sole', 'purpose', 'modi', 'govt', 'i…', 'saumya_miishra', ':', '11', 'places', 'renamed', \"'humayun'\", '61', 'places', 'renamed', \"'babur'\", '63', 'places', 'renamed', \"'shah\", \"jahan'\", '141', 'places', 'renam…', 'haramiparindey', ':', 'sending', 'nudes', '’', 'busy', 'watching', 'action', 'narendra', 'modi', 'stadium', '.', '#', 'indveng', 'https', ':', '//t.co/cri4dd7hry', 'kunalkamra88', ':', 'commentary', 'debut', 'narendra', 'modi', 'stadium', '.', '🙏🏽🙏🏽🙏🏽', 'https', ':', '//t.co/fmuqg2417v', 'pbhushan1', ':', 'stalin', ',', 'mussolini', ',', 'saddam', ',', 'kim', '2', 'song', ':', 'lending', 'name', 'stadium', ',', 'narendra', 'modi', 'joins', 'league', 'notorious', 'world', 'le…', 'kunalkamra88', ':', 'commentary', 'debut', 'narendra', 'modi', 'stadium', '.', '🙏🏽🙏🏽🙏🏽', 'https', ':', '//t.co/fmuqg2417v', 'ani', ':', '``', 'two', 'brothers', '(', 'adani', '&', 'amp', ';', 'ambani', ')', 'two', 'sides', '(', 'ends', ')', 'stadium', '(', 'narendra', 'modi', 'stadium', ')', '.', \"'hum\", ',', 'humare', 'ho', 'gay…', 'spiritofcongres', ':', 'narendra', 'modi', 'naming', 'stadium', 'exactly', 'like', 'savarkar', 'calling', 'veer', '.', '#', 'veersavarkar', 'kunalkamra88', ':', 'commentary', 'debut', 'narendra', 'modi', 'stadium', '.', '🙏🏽🙏🏽🙏🏽', 'https', ':', '//t.co/fmuqg2417v', 'kunalkamra88', ':', 'commentary', 'debut', 'narendra', 'modi', 'stadium', '.', '🙏🏽🙏🏽🙏🏽', 'https', ':', '//t.co/fmuqg2417v', 'narendra', 'modi', 'naming', 'stadium', 'exactly', 'like', 'savarkar', 'calling', 'veer', '.', '#', 'veersavarkar', 'totheeepoint', ':', 'soon', '#', 'moteracricketstadium', 'renamed', 'narendra', 'modi', 'stadium', ',', 'defeated', 'one', 'best', 'test', 'sides', 'the…', 'holland_tom', ':', 'record', ',', '&', 'amp', ';', 'save', 'marvel', '’', 'profits', 'india', ',', 'freely', 'acknowledge', 'narendra', 'modi', 'man', 'immense', 'humi…', 'surrbhim', ':', 'look', 'new', 'entry', 'list', '!', '!', 'narendra', 'modi', 'fascist', 'dictator', 'list', 'named', 'stadium', 'hi…', 'kunalkamra88', ':', 'commentary', 'debut', 'narendra', 'modi', 'stadium', '.', '🙏🏽🙏🏽🙏🏽', 'https', ':', '//t.co/fmuqg2417v', 'spiritofcongres', ':', 'narendra', 'modi', 'naming', 'stadium', 'exactly', 'like', 'savarkar', 'calling', 'veer', '.', '#', 'veersavarkar', 'scroll_in', ':', 'naming', 'stadium', 'sitting', 'prime', 'minister', 'places', 'narendra', 'modi', 'unenviable', 'pantheon', 'likes', 'hitler', ',', 'stal…', 'kunalkamra88', ':', 'commentary', 'debut', 'narendra', 'modi', 'stadium', '.', '🙏🏽🙏🏽🙏🏽', 'https', ':', '//t.co/fmuqg2417v', 'truth', 'narendra', 'modi', 'stadium', 'rahulgandhi', 'incindia', 'lambaalka', 'arvindkejriwal', 'https', ':', '//t.co/qulkym37zq', 'threadreaderapp', ':', 'sladdha', 'bonjour', ',', 'unroll', 'asked', ':', 'narendra', 'modi', 'stadium', 'clueless', 'bhakts', '(', 'thread', ')', '.', 'remember', 'bandhg…', 'shazi786_', ':', 'modi', 'stas', 'playing', 'cricket', 'narendra', 'modi', 'stadium', '?', '#', 'narendramodistadium', '#', 'सरदार_पटेल_का_अपमान', '#', 'मोदी_मतलब_देश_चौप…', 'theatulmishra', ':', 'narendra', 'modi', 'stadium', 'clueless', 'bhakts', '(', 'thread', ')', '.', 'remember', 'bandhgala', 'suit', ',', 'pm', 'modi', '’', 'name', 'embroidered…', 'spiritofcongres', ':', 'narendra', 'modi', 'naming', 'stadium', 'exactly', 'like', 'savarkar', 'calling', 'veer', '.', '#', 'veersavarkar', 'kunalkamra88', ':', 'commentary', 'debut', 'narendra', 'modi', 'stadium', '.', '🙏🏽🙏🏽🙏🏽', 'https', ':', '//t.co/fmuqg2417v', 'scroll_in', ':', 'naming', 'stadium', 'sitting', 'prime', 'minister', 'places', 'narendra', 'modi', 'unenviable', 'pantheon', 'likes', 'hitler', ',', 'stal…', 'kunalkamra88', ':', 'commentary', 'debut', 'narendra', 'modi', 'stadium', '.', '🙏🏽🙏🏽🙏🏽', 'https', ':', '//t.co/fmuqg2417v', 'kunalkamra88', ':', 'commentary', 'debut', 'narendra', 'modi', 'stadium', '.', '🙏🏽🙏🏽🙏🏽', 'https', ':', '//t.co/fmuqg2417v', 'ra_bies', ':', 'good', 'morning', 'e', '’', 'one', 'specially', 'resident', 'sonia', 'vihar', '&', 'amp', ';', 'jawahar', 'nagar', ',', 'students', 'jnu', '&', 'amp', ';', 'kamla', 'nehru', 'college', '&', 'amp', ';', 'recipien…', 'ravisinghka', ':', 'indra', 'gandhi', 'massacred', 'sikhs', 'airpo', 'named', '...', '.', 'narendra', 'modi', 'massacred', 'muslims', '&', 'amp', ';', 'stadium', 'name…', 'ravisinghka', ':', 'indra', 'gandhi', 'massacred', 'sikhs', 'airpo', 'named', '...', '.', 'narendra', 'modi', 'massacred', 'muslims', '&', 'amp', ';', 'stadium', 'name…', 'gopalvermaeng', ':', '2', 'crore', 'jobs/', 'year', '❌', '15', 'lakh', '❌', 'double', 'farmer', 'income', '❌', 'kashi', 'become', 'kyoto', '❌', 'demo', 'remove', 'terrorism', ',', 'naxalism', '❌', 'gst', 't…', 'kunalkamra88', ':', 'commentary', 'debut', 'narendra', 'modi', 'stadium', '.', '🙏🏽🙏🏽🙏🏽', 'https', ':', '//t.co/fmuqg2417v', 'gopalvermaeng', ':', '2', 'crore', 'jobs/', 'year', '❌', '15', 'lakh', '❌', 'double', 'farmer', 'income', '❌', 'kashi', 'become', 'kyoto', '❌', 'demo', 'remove', 'terrorism', ',', 'naxalism', '❌', 'gst', 't…', 'sureshpnagare', ':', 'ishant', 'bumrah', 'jobless', 'narendra', 'modi', 'stadium', '😐', '#', 'modi_job_do', '#', 'indvseng', '#', 'testcricket', '#', '400test', '#', 'rohit', '#', '3rdtest', '#', '…', 'saketgokhale', ':', 'one', 'thing', '’', 'incredibly', 'fitting', '&', 'amp', ';', 'poetic', 'someday', 'mass', 'trials', 'ran', '&', 'amp', ';', 'enabled', 'crimes…', 'two', 'stadiums', 'ahmedabad', '.', 'folks', 'confused', 'two', 'seems', '.', 'sardar', 'vallabhbhai', 'stadium', 'old', 'one', 'an…', 'https', ':', '//t.co/kfckiu3q3c', 'hemant_1110_', ':', 'upset', 'naming', 'stadium', 'narendra', 'modi', ',', 'changing', 'name', 'sadar', 'patel', 'insults', 'great', 'leader', '.', 'he…', 'gopalvermaeng', ':', '2', 'crore', 'jobs/', 'year', '❌', '15', 'lakh', '❌', 'double', 'farmer', 'income', '❌', 'kashi', 'become', 'kyoto', '❌', 'demo', 'remove', 'terrorism', ',', 'naxalism', '❌', 'gst', 't…', 'airaaaofficial', ':', 'low', 'scoring', 'game', 'narendra', 'modi', 'stadium', 'fitting', 'tribute', 'low', 'scoring', 'jobs', '.', '#', 'modi_job_do', '#', 'indveng', '#', 'मो…', 'kunalkamra88', ':', 'commentary', 'debut', 'narendra', 'modi', 'stadium', '.', '🙏🏽🙏🏽🙏🏽', 'https', ':', '//t.co/fmuqg2417v', 'airaaaofficial', ':', 'low', 'scoring', 'game', 'narendra', 'modi', 'stadium', 'fitting', 'tribute', 'low', 'scoring', 'jobs', '.', '#', 'modi_job_do', '#', 'indveng', '#', 'मो…', 'santvarun', ':', 'pitch', 'promises', '5', 'days', 'cricket', 'lasts', '2', 'days', '.', 'ladies', 'gentlemen', ',', 'presenting', 'narendra', 'modi', 'stadium', '.', 'yuvraj', 'singh', 'criticizes', 'ahmedabad', 'pitch', 'india', 'beats', 'england', '3rd', 'test', 'match', 'narendra', 'modi', 'stadiu…', 'https', ':', '//t.co/o0heztswtq', 'surrbhim', ':', 'look', 'new', 'entry', 'list', '!', '!', 'narendra', 'modi', 'fascist', 'dictator', 'list', 'named', 'stadium', 'hi…', 'stadio', 'mussolini', 'built', '1930s', 'named', 'benito', 'mussolini', 'rule', '.', 'hitler', 'named', 'football', 'stadiu…', 'https', ':', '//t.co/hduh4nqxab', 'rupe_costa', ':', 'shame', ':', 'name', 'largest', 'cricket', 'stadium', 'changed', 'sardar', 'patel', 'stadium', 'narendra', 'modi', 'stadium', 'the…', 'nehaltyagi08', ':', 'protest', '-', 'narendra', 'modi', 'stadium', 'protest', 'venue', '-', 'indira', 'gandhi', 'indoor', 'stadium', 'protest', 'theme', '-', 'return', 'rajiv', 'gand…', 'rupe_costa', ':', 'strategy', 'prove', 'stadium', 'named', 'narendra', 'modi', 'india', 'got', 'super', 'victory', '.', 'attempt', 'to…', 'scroll_in', ':', 'naming', 'stadium', 'sitting', 'prime', 'minister', 'places', 'narendra', 'modi', 'unenviable', 'pantheon', 'likes', 'hitler', ',', 'stal…', 'kunalkamra88', ':', 'commentary', 'debut', 'narendra', 'modi', 'stadium', '.', '🙏🏽🙏🏽🙏🏽', 'https', ':', '//t.co/fmuqg2417v', 'airaaaofficial', ':', 'low', 'scoring', 'game', 'narendra', 'modi', 'stadium', 'fitting', 'tribute', 'low', 'scoring', 'jobs', '.', '#', 'modi_job_do', '#', 'indveng', '#', 'मो…', 'airaaaofficial', ':', 'low', 'scoring', 'game', 'narendra', 'modi', 'stadium', 'fitting', 'tribute', 'low', 'scoring', 'jobs', '.', '#', 'modi_job_do', '#', 'indveng', '#', 'मो…', 'theatulmishra', ':', 'narendra', 'modi', 'stadium', 'clueless', 'bhakts', '(', 'thread', ')', '.', 'remember', 'bandhgala', 'suit', ',', 'pm', 'modi', '’', 'name', 'embroidered…', 'gauravpandhi', ':', '2', 'crore', 'jobs/', 'year', '❌', '15', 'lakh', '❌', '100', 'sma', 'cities', '❌', 'bullet', 'train', '❌', 'double', 'farmer', 'income', '❌', 'kashi', 'become', 'kyoto', '❌', 'demo', 'r…', 'spiritofcongres', ':', 'narendra', 'modi', 'naming', 'stadium', 'exactly', 'like', 'savarkar', 'calling', 'veer', '.', '#', 'veersavarkar', 'dhirubhaitrive1', ':', 'swamy39', 'bcci', 'change', 'name', 'stadium', '.', 'sardar', 'patel', 'stadium', 'situated', 'naranpura', 'ahmedabad', '.', 'motera', 'stad…', 'theatulmishra', ':', 'narendra', 'modi', 'stadium', 'clueless', 'bhakts', '(', 'thread', ')', '.', 'remember', 'bandhgala', 'suit', ',', 'pm', 'modi', '’', 'name', 'embroidered…', 'kunalkamra88', ':', 'commentary', 'debut', 'narendra', 'modi', 'stadium', '.', '🙏🏽🙏🏽🙏🏽', 'https', ':', '//t.co/fmuqg2417v', 'kunalkamra88', ':', 'commentary', 'debut', 'narendra', 'modi', 'stadium', '.', '🙏🏽🙏🏽🙏🏽', 'https', ':', '//t.co/fmuqg2417v', 'opindia_com', ':', '450', 'buildings', ',', 'projects', 'named', 'nehru-gandhi', 'dynasty', ',', '‘', 'liberals', '’', 'outrage', 'stadium', 'named', 'pm', 'modi…', 'pbhushan1', ':', 'stalin', ',', 'mussolini', ',', 'saddam', ',', 'kim', '2', 'song', ':', 'lending', 'name', 'stadium', ',', 'narendra', 'modi', 'joins', 'league', 'notorious', 'world', 'le…', 'kunalkamra88', ':', 'commentary', 'debut', 'narendra', 'modi', 'stadium', '.', '🙏🏽🙏🏽🙏🏽', 'https', ':', '//t.co/fmuqg2417v']\n",
            "\n",
            "\n",
            "Most Frequent word is modi with frequency: 73\n"
          ],
          "name": "stdout"
        }
      ]
    },
    {
      "cell_type": "markdown",
      "metadata": {
        "id": "M6iM0ra5fJF2"
      },
      "source": [
        "##Saving the extracted tweets in a .csv file"
      ]
    },
    {
      "cell_type": "code",
      "metadata": {
        "id": "ilQ9wA_neWfD"
      },
      "source": [
        "df.to_csv('Tweets_extracted.csv')"
      ],
      "execution_count": null,
      "outputs": []
    }
  ]
}