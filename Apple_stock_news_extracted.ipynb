{
  "nbformat": 4,
  "nbformat_minor": 0,
  "metadata": {
    "colab": {
      "name": "Apple stock news extracted.ipynb",
      "provenance": [],
      "authorship_tag": "ABX9TyMYp4qO5ZKxR0pwdobRJltb",
      "include_colab_link": true
    },
    "kernelspec": {
      "name": "python3",
      "display_name": "Python 3"
    }
  },
  "cells": [
    {
      "cell_type": "markdown",
      "metadata": {
        "id": "view-in-github",
        "colab_type": "text"
      },
      "source": [
        "<a href=\"https://colab.research.google.com/github/devanshmesson/Social-Web-and-Mobile-analytics/blob/main/Apple_stock_news_extracted.ipynb\" target=\"_parent\"><img src=\"https://colab.research.google.com/assets/colab-badge.svg\" alt=\"Open In Colab\"/></a>"
      ]
    },
    {
      "cell_type": "markdown",
      "metadata": {
        "id": "Clk__FgPF7XS"
      },
      "source": [
        "##Access API and extract Apple stock news"
      ]
    },
    {
      "cell_type": "code",
      "metadata": {
        "id": "cCkeVK9QEBiy"
      },
      "source": [
        "import requests      \r\n",
        "# using keyword AAPL, to collect all Apple related stock news\r\n",
        "#using API provided by newsapi.org\r\n",
        "url = ('https://newsapi.org/v2/everything?'\r\n",
        "       'q=AAPL&'\r\n",
        "       'from=2021-01-29&'\r\n",
        "       'sortBy=popularity&'\r\n",
        "       'apiKey=d0708e0c9220410984f0081e01b998a6')\r\n",
        "  "
      ],
      "execution_count": null,
      "outputs": []
    },
    {
      "cell_type": "markdown",
      "metadata": {
        "id": "e8Rttq_gGTI2"
      },
      "source": [
        "##Extract the articles page of newsapi website"
      ]
    },
    {
      "cell_type": "code",
      "metadata": {
        "colab": {
          "base_uri": "https://localhost:8080/"
        },
        "id": "14sBnWEfGR7s",
        "outputId": "449e20dc-503a-4420-bdf8-7ef438186baa"
      },
      "source": [
        "open_bbc_page = requests.get(url).json() \r\n",
        "\r\n",
        "article = open_bbc_page[\"articles\"] \r\n",
        "results = [] \r\n",
        "\r\n",
        "for ar in article:\r\n",
        "  results.append(ar[\"title\"]) \r\n",
        "          \r\n",
        "for i in range(len(results)):\r\n",
        "  print(i + 1, results[i])              "
      ],
      "execution_count": null,
      "outputs": [
        {
          "output_type": "stream",
          "text": [
            "1 Now That Jeff Bezos Is Retiring as CEO of Amazon, Should You Sell Your Stock?\n",
            "2 Apple taps debt markets to raise $14 billion for future shareholder payouts (AAPL)\n",
            "3 Apple will replace the batteries that won't hold a charge in certain MacBook Pros for free (AAPL)\n",
            "4 Elon Musk is an entrepreneur, and Tim Cook isn't — and that's why the overhyped Apple Car is going nowhere (TSLA, AAPL)\n",
            "5 Tesla Is Phase One of the EV Investing Cycle. What's in Phase Two?\n",
            "6 The role of officer race and gender in police-civilian interactions in Chicago\n",
            "7 ‘Why Are You Still Here?’\n",
            "8 The Reddit GME short squeeze game plan (143 days old)\n",
            "9 This week’s top stories: AAPL earnings, Apple Watch Series 7 rumors, iOS 14.4, and more\n",
            "10 Apple borrowed $14B through bond issue to fund stock buybacks and dividends\n",
            "11 This week’s top stories: New features in iOS 14.5, the latest on Apple Car, and much more\n",
            "12 : Hyundai now says it’s not in talks with Apple to develop autonomous electric car\n",
            "13 : What is Paramount Plus? The streaming service advertised a lot during the Super Bowl\n",
            "14 Europe Markets: European stocks and U.S. bond yields climb on expectations stimulus will heat economy\n",
            "15 In One Chart: Amazon’s stock performance since its IPO makes the S&P 500 look like a flat line\n",
            "16 Earnings Results: Snap shares slump 8% despite big jump in revenue\n",
            "17 Market Extra: Boeing back with bond deal to help repay draw on loan facility\n",
            "18 Need to Know: Don’t be a pig — advice for both sides of the GameStop saga as Robinhood reopens the spigot\n",
            "19 Key Words: Tesla CEO Elon Musk calls Robinhood CEO ‘Vlad the stock impaler’ and grills him over the GameStop saga\n",
            "20 Earnings Watch: The S&P 500 is on track for surprise earnings growth, and Disney waits on deck\n"
          ],
          "name": "stdout"
        }
      ]
    },
    {
      "cell_type": "code",
      "metadata": {
        "id": "yHdyGwi9G6c1"
      },
      "source": [
        "import pandas as pd\r\n",
        "df=pd.DataFrame()\r\n",
        "df['Apple Stock News']=results\r\n",
        "df.to_csv('Apple Stock News_extracted.csv')"
      ],
      "execution_count": null,
      "outputs": []
    },
    {
      "cell_type": "markdown",
      "metadata": {
        "id": "WcvSzG5EF5sR"
      },
      "source": [
        ""
      ]
    }
  ]
}