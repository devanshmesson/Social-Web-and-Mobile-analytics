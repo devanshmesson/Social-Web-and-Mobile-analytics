{
  "nbformat": 4,
  "nbformat_minor": 0,
  "metadata": {
    "colab": {
      "name": "Extracting Tweets through tweepy.ipynb",
      "provenance": [],
      "collapsed_sections": [],
      "include_colab_link": true
    },
    "kernelspec": {
      "name": "python3",
      "display_name": "Python 3"
    }
  },
  "cells": [
    {
      "cell_type": "markdown",
      "metadata": {
        "id": "view-in-github",
        "colab_type": "text"
      },
      "source": [
        "<a href=\"https://colab.research.google.com/github/devanshmesson/Social-Web-and-Mobile-analytics/blob/main/Extracting_Tweets_through_tweepy(Variation%201).ipynb\" target=\"_parent\"><img src=\"https://colab.research.google.com/assets/colab-badge.svg\" alt=\"Open In Colab\"/></a>"
      ]
    },
    {
      "cell_type": "markdown",
      "metadata": {
        "id": "vIaUygM2c087"
      },
      "source": [
        "##Inputting Twitter  API "
      ]
    },
    {
      "cell_type": "code",
      "metadata": {
        "id": "1qC6vkfzt_zu"
      },
      "source": [
        "api = \"GPsb6P5ijsBI69yOCFQilMVH2\"\n",
        "api_secret = \"7EHOn5VUw2SmmoWK4nCIX4jud1yTvDz6ydovt68oohAh8c8feQ\"\n",
        "access = \"1349986617247756294-2NJRVhKCjranmDNJQv5Nf1VXho2xtH\"\n",
        "access_secret = \"Q2HtjDLLsYPN6Gs16XOeoKp3yzU1AUpwTUAOSEvdsfoHV\""
      ],
      "execution_count": 42,
      "outputs": []
    },
    {
      "cell_type": "markdown",
      "metadata": {
        "id": "18o_JI1yc93V"
      },
      "source": [
        "##Using Tweepy library to extract tweets from API"
      ]
    },
    {
      "cell_type": "code",
      "metadata": {
        "id": "DZ11G446ufu4",
        "colab": {
          "base_uri": "https://localhost:8080/"
        },
        "outputId": "8b47db53-f0b3-4ee0-8e61-72ae73a993f2"
      },
      "source": [
        "import tweepy\r\n",
        "import nltk\r\n",
        "nltk.download('stopwords')\r\n",
        "nltk.download('punkt')\r\n",
        "\r\n",
        "from nltk.corpus import stopwords  \r\n",
        "from nltk.tokenize import word_tokenize \r\n",
        "from nltk.stem import PorterStemmer \r\n",
        "ps=PorterStemmer()"
      ],
      "execution_count": 43,
      "outputs": [
        {
          "output_type": "stream",
          "text": [
            "[nltk_data] Downloading package stopwords to /root/nltk_data...\n",
            "[nltk_data]   Package stopwords is already up-to-date!\n",
            "[nltk_data] Downloading package punkt to /root/nltk_data...\n",
            "[nltk_data]   Package punkt is already up-to-date!\n"
          ],
          "name": "stdout"
        }
      ]
    },
    {
      "cell_type": "markdown",
      "metadata": {
        "id": "ge4Ksv9UdONj"
      },
      "source": [
        "##Setting up API"
      ]
    },
    {
      "cell_type": "code",
      "metadata": {
        "id": "itWUysksu-QW"
      },
      "source": [
        "auth = tweepy.OAuthHandler(api,api_secret)\n",
        "auth.set_access_token(access,access_secret)\n",
        "api = tweepy.API(auth)"
      ],
      "execution_count": 44,
      "outputs": []
    },
    {
      "cell_type": "markdown",
      "metadata": {
        "id": "O5paeRVVdT0L"
      },
      "source": [
        ""
      ]
    },
    {
      "cell_type": "markdown",
      "metadata": {
        "id": "Dky0DgkFdT5j"
      },
      "source": [
        "##Extracting tweets containing a particular topic"
      ]
    },
    {
      "cell_type": "code",
      "metadata": {
        "id": "UXaO-uL9vecP"
      },
      "source": [
        "tweets = api.search(\"BJP\",count=1000,result_type=\"recent\")"
      ],
      "execution_count": 45,
      "outputs": []
    },
    {
      "cell_type": "markdown",
      "metadata": {
        "id": "_fUWg_cRdl3R"
      },
      "source": [
        "\r\n",
        "\r\n",
        "\r\n",
        "##Printing extracted tweets in english"
      ]
    },
    {
      "cell_type": "code",
      "metadata": {
        "id": "8op2sB7NwPP9",
        "colab": {
          "base_uri": "https://localhost:8080/"
        },
        "outputId": "1af8f4cc-ff6a-4a7f-bf94-f55db10c5709"
      },
      "source": [
        "cnt=0\n",
        "Tweets=[]\n",
        "for tweet in tweets:\n",
        "   if tweet.lang == \"en\":\n",
        "     Tweets.append(tweet.text.lower())\n",
        "     cnt=cnt+1\n",
        "     print(tweet.text.lower())"
      ],
      "execution_count": 46,
      "outputs": [
        {
          "output_type": "stream",
          "text": [
            "@jskgopi bjp leaders does not have ground reality knowledge , why bjp standing in thali. they shoud have stood in h… https://t.co/n5mq33lbr6\n",
            "rt @kaursuk06272818: save country form bjp by #novotetobjp https://t.co/tn2ekbblpv\n",
            "rt @sandhu94717: laws are spider webs through which the big flies pass and the little ones get caught.\n",
            "\n",
            "....... big no to bjp....... \n",
            "#novo…\n",
            "rt @ani: i came to ask didi that which daughter needs to be voted?  who thrashed an 80-yr-old woman? who murdered bjp workers? who doesn't…\n",
            "rt @savekisaan: bjp is controlled by two people modi and shah. any other leaders don’t have decision making power . \n",
            "\n",
            "#novotetobjp \n",
            "#farmer…\n",
            "@_pallavighosh you're right. fu.k out bjp from central, first of all.\n",
            "rt @sivaetb: #makkalneedhimaiam chief #kamalhaasan to test his electoral waters from coimbatore (south) which will witness a direct fight b…\n",
            "rt @rinkudhillon: bjp government is destroying the federal essence of the constitution ...\n",
            "\n",
            "#novotetobjp https://t.co/hto0bc9ndu\n",
            "rt @pun_starr: some journalists are openly canvassing for bjp in west bengal elections.\n",
            "\n",
            "and modiji thinks, media is 'unkind' towards bjp.\n",
            "rt @duryodan_: bjp will form government in kerala if we get 35/140 seats - @surendranbjp 🔥\n",
            "rt @incindia: unfilled teaching posts are disastrous for any nation wanting to scale greater heights, if only bjp &amp; its allies could unders…\n",
            "rt @ani: i came to ask didi that which daughter needs to be voted?  who thrashed an 80-yr-old woman? who murdered bjp workers? who doesn't…\n",
            "rt @amarprasadreddy: this is intolerable, i strongly condemn the dmk party and it's president @mkstalin. whoever does this must go behind b…\n",
            "rt @srivatsayb: for 'namaste trump', modi spent ₹3.7 cr on flowers to beautify trump's route to motera stadium\n",
            "\n",
            "modi also covered up the sl…\n",
            "rt @kisanektamorcha: 'no vote to bjp' is all what one must be aware of. \n",
            "an appeal to people not to stand with the party. \n",
            "same cry, differ…\n",
            "a vote for bjp is a vote against the country i love!\n",
            "#novotetobjp\n",
            " i’m with farmer https://t.co/fcftupmzdl\n",
            "rt @abhishbanerj: a lot of people don't realize that bengal is not a normal election.\n",
            "\n",
            "those joining bjp are risking everything.\n",
            "\n",
            "if tmc wi…\n",
            "bjp naya dog https://t.co/rkuwfq6ofa\n",
            "rt @ani: i came to ask didi that which daughter needs to be voted?  who thrashed an 80-yr-old woman? who murdered bjp workers? who doesn't…\n",
            "kamal haasan will contest from coimbatore south, to face off with bjp and congress\n",
            "rt @jajabormanas: i remember in 2016,when bjp finalized it's alliance with agp lots of ppl were unhappy then hbs reached out to them to exp…\n",
            "rt @explainwithvojo: thear is no place for bjp in bengal #bengalrejectsbjp #novotetobjp\n",
            "we dont allow politics of violence and religion @ta…\n",
            "rt @jass_k_g: the whole india now needs to stand against bjp only then country could be saved\n",
            "#novotetobjp\n",
            "#farmersprotest\n",
            "rt @inctelangana: first time voters have been fooled by modi &amp; bjp with the promise of 2 crore jobs every year !!\n",
            "\n",
            "now #studentswantjobs, n…\n",
            "rt @kamalpreet1511: 'no vote to bjp'-slogan people of bengal are using to create awareness among people.\n",
            "#novotetobjp \n",
            "#farmersprotest http…\n",
            "rt @ani: there is a lack of employment opportunities in the state. to bring change, we need to remove this tmc. tmc has turned into a priva…\n",
            "rt @incindia: unfilled teaching posts are disastrous for any nation wanting to scale greater heights, if only bjp &amp; its allies could unders…\n",
            "rt @ani: i came to ask didi that which daughter needs to be voted?  who thrashed an 80-yr-old woman? who murdered bjp workers? who doesn't…\n",
            "rt @gauravpandhi: bjp became the first political party in india to promise 2 crore jobs every year ie 14 crore jobs in 7 yrs\n",
            "\n",
            "bjp also beca…\n",
            "rt @vishallochab6: so if you want more hike on gas and petrol diesel go with bjp . \n",
            "\n",
            "and if you want break this dictatorships ..  then go w…\n",
            "rt @drkhinda2: one more feather in cap!!! india turned into “electoral autocracy” ਮਤਲਬ: “”ਲੋਕਾਂ ਦੁਆਰਾ ਵੋਟਾਂ ਰਾਹੀਂ ਚੁਣਿਆ ਗਿਆ ਤਾਨਾਸ਼ਾਹ””.oh o…\n",
            "rt @iamsanjeevthind: no caption needed to show bjp's dirty games...\n",
            "\n",
            "#novotetobjp https://t.co/vdyozb6wsx\n",
            "rt @drkhinda2: yeh hai brand #golimaro .... language used by these politicians of bjp- clear message: spread hate -use abusive language - t…\n",
            "boycott bjp #novotetobjp #farmersprotest https://t.co/vguonpbd55\n",
            "rt @amarprasadreddy: this is intolerable, i strongly condemn the dmk party and it's president @mkstalin. whoever does this must go behind b…\n",
            "rt @abhishbanerj: a theater actor named koushik kar joined bjp in bengal.\n",
            "\n",
            "immediately, he was dropped from his role in a play.\n",
            "\n",
            "this is th…\n",
            "rt @incpuducherry: earlier today, @bjp4puducherry workers tried to create ruckus outside our office but were chased away by the public.\n",
            "\n",
            "th…\n",
            "rt @7iddis: if u are uneducated, you are qualified to get bjp ticket\n",
            "#studentswantjobs\n",
            "rt @incwestbengal: in the last 10 years of tmc rule bengal has only seen scams and corruption. the last 7 years of bjp rule at the centre h…\n",
            "rt @kisanektamorcha: our farm leaders to start campaigning under the slogan 'no vote to bjp' for the appraoching assembly elections in west…\n",
            "rt @jk77773737: bjp works only for corporates,\n",
            " not for public.\n",
            "           no bjp, no corruption\n",
            "\n",
            "#novotetobjp\n",
            "#किसान_विरोधी_मोदी_सरकार htt…\n",
            "rt @incpuducherry: earlier today, @bjp4puducherry workers tried to create ruckus outside our office but were chased away by the public.\n",
            "\n",
            "th…\n",
            "rt @kapsology: bjp is a party that has destroyed the economy of this country!\n",
            "bjp is a party that has destroyed jobs in the country\n",
            "bjp is…\n",
            "rt @abhishbanerj: a lot of people don't realize that bengal is not a normal election.\n",
            "\n",
            "those joining bjp are risking everything.\n",
            "\n",
            "if tmc wi…\n",
            "rt @alikpcc: pl vote but not for bjp is the call.\n",
            "#novotetobjp\n",
            "rt @incpuducherry: earlier today, @bjp4puducherry workers tried to create ruckus outside our office but were chased away by the public.\n",
            "\n",
            "th…\n",
            "rt @mj_007club: tolerance levels 😤😡😠\n",
            "\n",
            "bengal theatre artist koushik kar joins bjp, loses his role in play.\n",
            "\n",
            "liberals and commies everywhere?\n",
            "rt @mrsgandhi: pic 1: ndtv journalist @sanket when bengal cm mamata banerjee's car accidentally hits a pole.\n",
            "\n",
            "pic 2: ndtv journalist @sanke…\n",
            "rt @ssambrani: @5forty3 many think tmc may scrape through due to m-voters. but i was astonished to see many m voters voicing for modi in ye…\n",
            "rt @srivatsayb: for 'namaste trump', modi spent ₹3.7 cr on flowers to beautify trump's route to motera stadium\n",
            "\n",
            "modi also covered up the sl…\n",
            "rt @inctelangana: first time voters have been fooled by modi &amp; bjp with the promise of 2 crore jobs every year !!\n",
            "\n",
            "now #studentswantjobs, n…\n",
            "rt @pbhushan1: the bjp/aidmk govt is stopping the cycle rally for farmers at kanyakumari! the rally is to begin from kanyakumari today &amp; go…\n",
            "rt @ani: i came to ask didi that which daughter needs to be voted?  who thrashed an 80-yr-old woman? who murdered bjp workers? who doesn't…\n",
            "rt @ravinderkapur2: #novotetobjp\n",
            "#rakeshtaikait in west bengal to campaign against the bjp.\n",
            "\n",
            "#farmersprotests\n",
            "rt @surrbhim: if your loyalty is with india then don't give your precious vote to bjp 👍\n",
            "\n",
            " #novotetobjp https://t.co/275hxo1ied\n",
            "rt @_manikgoyal: checkout is video. people of bengal are saying \"no vote to bjp\" . sanyukt kisan morcha will campaign against bjp under thi…\n",
            "rt @shashitharoor: this is dismaying not just for indian democratsalready facing the brunt of the government's autocratic behaviour, but al…\n",
            "rt @isay_0rg: one india\n",
            "one voice \n",
            "\n",
            "● no vote to bjp! \n",
            "\n",
            "#noजॉब_noवोट https://t.co/b6hm34m8du\n",
            "rt @gauravpandhi: bjp became the first political party in india to promise 2 crore jobs every year ie 14 crore jobs in 7 yrs\n",
            "\n",
            "bjp also beca…\n",
            "rt @victim_card_: she's indicating people of bengal to choose bjp instead of victim mamata.\n",
            "\n",
            "@_pallavighosh didn't expected this from you.…\n",
            "rt @kaveetajaain: she means \"time to throw bjp out of the centre\"\n",
            "\n",
            "bjp's centre state failed disastrous model of up bihar is there for all…\n",
            "rt @opindia_com: theatre artist loses job after joining bjp, vocal communist supporter behind the removal: here is all you need to know\n",
            "htt…\n",
            "rt @citizenkamran: and media will progress when bjp stooges are thrown out of journalism\n",
            "rt @mrsgandhi: pic 1: ndtv journalist @sanket when bengal cm mamata banerjee's car accidentally hits a pole.\n",
            "\n",
            "pic 2: ndtv journalist @sanke…\n",
            "rt @incpuducherry: earlier today, @bjp4puducherry workers tried to create ruckus outside our office but were chased away by the public.\n",
            "\n",
            "th…\n",
            "rt @muruga_tnie: bjp state vice president nainar nagenthran files nomination for tirunelveli assembly constituency; he filed his papers ahe…\n",
            "rt @incindia: unfilled teaching posts are disastrous for any nation wanting to scale greater heights, if only bjp &amp; its allies could unders…\n",
            "rt @jimmykahlon2: 'no vote to bjp': activists raise slogans during protest rally ahead of west bengal assembly polls\n",
            "#novotetobjp\n",
            " support…\n",
            "rt @kisanektamorcha: 'no vote to bjp'-slogan people of bengal are using to create awareness among people.\n",
            "bjp has almost ruined lives of th…\n",
            "rt @gulfsha23: 🔹 farmers\n",
            "🔹students\n",
            "🔹women\n",
            "🔹teachers\n",
            "🔹traders\n",
            "🔹s&amp;m businessperson\n",
            "🔹govt employees\n",
            "🔹pvt employees\n",
            "\n",
            " all these are upset with…\n",
            "rt @gandhian_ism: @elizatweetz @_pallavighosh as if bjp has made india the most prosperous nation in the world since 2014? as if j&amp;k became…\n",
            "rt @kisanektamorcha: 'no vote to bjp' is all what one must be aware of. \n",
            "an appeal to people not to stand with the party. \n",
            "same cry, differ…\n",
            "rt @indiaaheadnews: bjp will form government in #westbengalelection2021 :@suvenduwb @bjp4india @bjp4bengal https://t.co/fqzedgtjpq\n",
            "mootte hai ham bjp pe\n",
            "\n",
            "#novotetobjp\n",
            "rt @khushibanwait: #novotetobjp \n",
            "dear modi ji give us atleast one reason to voting  bjp https://t.co/i9uhmzjc9p\n",
            "@udhavn @ikamalhaasan logical...\n",
            "\n",
            "he wants to step up by concentrating chennai and coimbatore...\n",
            "\n",
            "coimbatore less o… https://t.co/sx9s0skf4u\n",
            "rt @lavirana01: huge sympathy wave erupting for mamata banerjee. 2 more tmc mla joined bjp.\n",
            "rt @kisanektamorcha: 'no vote to bjp' is all what one must be aware of. \n",
            "an appeal to people not to stand with the party. \n",
            "same cry, differ…\n",
            "rt @kisanektamorcha: 'no vote to bjp' is all what one must be aware of. \n",
            "an appeal to people not to stand with the party. \n",
            "same cry, differ…\n",
            "rt @kisanektamorcha: 'no vote to bjp' is all what one must be aware of. \n",
            "an appeal to people not to stand with the party. \n",
            "same cry, differ…\n",
            "bjp and congress yet to announce their candidates. bjp list might come today, congress list expected only tomorrow https://t.co/a4gogviqff\n",
            "rt @abhishbanerj: a lot of people don't realize that bengal is not a normal election.\n",
            "\n",
            "those joining bjp are risking everything.\n",
            "\n",
            "if tmc wi…\n",
            "rt @drkhinda2: need of the hour!! “bengal”  india is looking at you. for a hope of safe secure india . plz plz “knock out bjp”  i again say…\n"
          ],
          "name": "stdout"
        }
      ]
    },
    {
      "cell_type": "markdown",
      "metadata": {
        "id": "E2nQha5at211"
      },
      "source": [
        "##Cleaning uneccessary information\r\n",
        "   -Removing tags and links and inserting cleaned tweets in a dataframe\r\n",
        "\r\n"
      ]
    },
    {
      "cell_type": "code",
      "metadata": {
        "id": "i-wnEYcqebGh"
      },
      "source": [
        "import pandas as pd\r\n",
        "df=pd.DataFrame()\r\n",
        "df['Tweets']=Tweets\r\n",
        "df[\"Tweets\"]= df[\"Tweets\"].str.replace(\"@\",\"\",case=False)\r\n",
        "df[\"Tweets\"]= df[\"Tweets\"].str.replace(\"RT\",\"\",case=False)\r\n",
        "df['Tweets']\r\n",
        "Tweets=df[\"Tweets\"]"
      ],
      "execution_count": 47,
      "outputs": []
    },
    {
      "cell_type": "markdown",
      "metadata": {
        "id": "xKEjk9ivYfnQ"
      },
      "source": [
        "##Performing tokenization,Stemming, Removing stopwords, Counting the tokens, Print Output\r\n",
        "\r\n",
        "\r\n",
        "\r\n",
        "\r\n"
      ]
    },
    {
      "cell_type": "code",
      "metadata": {
        "id": "jb2N-LN1VUpk",
        "colab": {
          "base_uri": "https://localhost:8080/"
        },
        "outputId": "ca84a854-c4e6-40f5-961e-336db85d26b7"
      },
      "source": [
        "sett=[]\r\n",
        "maxi_word=\"\"\r\n",
        "maxi_number=-1\r\n",
        "filtered_sentence=[]\r\n",
        "punctuation = '''!()-[]{};:'\"\\, <>./?@#$%^&*_~'''\r\n",
        "\r\n",
        "\r\n",
        "  \r\n",
        "for i in Tweets:\r\n",
        "  example_sent=i\r\n",
        "\r\n",
        "  stop_words = set(stopwords.words('english'))  \r\n",
        "  word_tokens = word_tokenize(example_sent)   #Performing tokenization \r\n",
        "\r\n",
        "  for w in word_tokens:\r\n",
        "    w=ps.stem(w)   #Performing stemming\r\n",
        "    \r\n",
        "  for w in word_tokens:  \r\n",
        "    if w not in stop_words and  w not in punctuation:  \r\n",
        "        filtered_sentence.append(w)    #Removing the stopwords\r\n",
        "        \r\n",
        "  for k in filtered_sentence:\r\n",
        "    if k not in sett:\r\n",
        "      sett.append(k)\r\n",
        "\r\n",
        "for a in range(0, len(sett)):\r\n",
        "  if filtered_sentence.count(sett[a]) > maxi_number and sett[a]!=\"\\'s\":  #Finding out the word with maximum frequency\r\n",
        "    maxi_number=filtered_sentence.count(sett[a])\r\n",
        "    maxi_word=sett[a]\r\n",
        "    #print(sett[a])\r\n",
        "\r\n",
        "print(\"\\nMost Frequent word is \\\"\",maxi_word,\"\\\" with frequency:\",maxi_number)"
      ],
      "execution_count": 48,
      "outputs": [
        {
          "output_type": "stream",
          "text": [
            "\n",
            "Most Frequent word is \" bjp \" with frequency: 73\n"
          ],
          "name": "stdout"
        }
      ]
    },
    {
      "cell_type": "markdown",
      "metadata": {
        "id": "GS55paiDko4P"
      },
      "source": [
        "#Word with largest frequency is bjp"
      ]
    },
    {
      "cell_type": "markdown",
      "metadata": {
        "id": "M6iM0ra5fJF2"
      },
      "source": [
        "##Saving the extracted tweets in a .csv file"
      ]
    },
    {
      "cell_type": "code",
      "metadata": {
        "id": "ilQ9wA_neWfD"
      },
      "source": [
        "df.to_csv('Tweets_extracted.csv')"
      ],
      "execution_count": 49,
      "outputs": []
    }
  ]
}